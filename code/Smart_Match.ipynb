{
 "cells": [
  {
   "cell_type": "markdown",
   "metadata": {},
   "source": [
    "# Smart Match Project Exploring"
   ]
  },
  {
   "cell_type": "markdown",
   "metadata": {},
   "source": [
    "### EDA"
   ]
  },
  {
   "cell_type": "code",
   "execution_count": 1,
   "metadata": {
    "collapsed": true
   },
   "outputs": [],
   "source": [
    "import pandas as pd\n",
    "import json"
   ]
  },
  {
   "cell_type": "code",
   "execution_count": 2,
   "metadata": {
    "collapsed": false
   },
   "outputs": [
    {
     "data": {
      "text/plain": [
       "u'/home/ubuntu/repo/project/SeekPanda_SmartMatch/code'"
      ]
     },
     "execution_count": 2,
     "metadata": {},
     "output_type": "execute_result"
    }
   ],
   "source": [
    "pwd"
   ]
  },
  {
   "cell_type": "code",
   "execution_count": 3,
   "metadata": {
    "collapsed": false
   },
   "outputs": [
    {
     "name": "stdout",
     "output_type": "stream",
     "text": [
      "/home/ubuntu/repo/project/SeekPanda_SmartMatch\n"
     ]
    }
   ],
   "source": [
    "cd .."
   ]
  },
  {
   "cell_type": "code",
   "execution_count": 4,
   "metadata": {
    "collapsed": true
   },
   "outputs": [],
   "source": [
    "filename = 'data/raw_data_jobs.csv'\n",
    "df_jobs = pd.read_csv(filename)"
   ]
  },
  {
   "cell_type": "code",
   "execution_count": 5,
   "metadata": {
    "collapsed": false
   },
   "outputs": [
    {
     "name": "stdout",
     "output_type": "stream",
     "text": [
      "<class 'pandas.core.frame.DataFrame'>\n",
      "Int64Index: 661 entries, 0 to 660\n",
      "Data columns (total 10 columns):\n",
      "id                661 non-null int64\n",
      "requester_id      661 non-null int64\n",
      "inserted_at       661 non-null object\n",
      "job_details       657 non-null object\n",
      "industry          0 non-null float64\n",
      "service_type      0 non-null float64\n",
      "industry_depth    0 non-null float64\n",
      "location          0 non-null float64\n",
      "prep_file_URL     0 non-null float64\n",
      "deadline          0 non-null float64\n",
      "dtypes: float64(6), int64(2), object(2)\n",
      "memory usage: 56.8+ KB\n"
     ]
    }
   ],
   "source": [
    "df_jobs.info()"
   ]
  },
  {
   "cell_type": "code",
   "execution_count": 6,
   "metadata": {
    "collapsed": false
   },
   "outputs": [
    {
     "data": {
      "text/html": [
       "<div>\n",
       "<table border=\"1\" class=\"dataframe\">\n",
       "  <thead>\n",
       "    <tr style=\"text-align: right;\">\n",
       "      <th></th>\n",
       "      <th>id</th>\n",
       "      <th>requester_id</th>\n",
       "      <th>inserted_at</th>\n",
       "      <th>job_details</th>\n",
       "      <th>industry</th>\n",
       "      <th>service_type</th>\n",
       "      <th>industry_depth</th>\n",
       "      <th>location</th>\n",
       "      <th>prep_file_URL</th>\n",
       "      <th>deadline</th>\n",
       "    </tr>\n",
       "  </thead>\n",
       "  <tbody>\n",
       "    <tr>\n",
       "      <th>0</th>\n",
       "      <td>1</td>\n",
       "      <td>22</td>\n",
       "      <td>11/5/2015 14:51:43</td>\n",
       "      <td>{answers\": {\"email_8765490\": null, \"email_9107...</td>\n",
       "      <td>NaN</td>\n",
       "      <td>NaN</td>\n",
       "      <td>NaN</td>\n",
       "      <td>NaN</td>\n",
       "      <td>NaN</td>\n",
       "      <td>NaN</td>\n",
       "    </tr>\n",
       "  </tbody>\n",
       "</table>\n",
       "</div>"
      ],
      "text/plain": [
       "   id  requester_id         inserted_at  \\\n",
       "0   1            22  11/5/2015 14:51:43   \n",
       "\n",
       "                                         job_details  industry  service_type  \\\n",
       "0  {answers\": {\"email_8765490\": null, \"email_9107...       NaN           NaN   \n",
       "\n",
       "   industry_depth  location  prep_file_URL  deadline  \n",
       "0             NaN       NaN            NaN       NaN  "
      ]
     },
     "execution_count": 6,
     "metadata": {},
     "output_type": "execute_result"
    }
   ],
   "source": [
    "df_jobs.head(1)"
   ]
  },
  {
   "cell_type": "markdown",
   "metadata": {},
   "source": [
    "check the job_details"
   ]
  },
  {
   "cell_type": "code",
   "execution_count": 7,
   "metadata": {
    "collapsed": true
   },
   "outputs": [],
   "source": [
    "job_sample = df_jobs['job_details'][1]"
   ]
  },
  {
   "cell_type": "code",
   "execution_count": 8,
   "metadata": {
    "collapsed": false
   },
   "outputs": [
    {
     "data": {
      "text/plain": [
       "'{answers\": {\"email_8765490\": null, \"email_9107531\": null, \"rating_9045688\": \"1\", \"yesno_10176601\": \"0\", \"dropdown_7603830\": \"Archaeology\", \"dropdown_9077980\": \"Shanghai\", \"textarea_7603814\": null, \"textarea_10173448\": \"TEST\", \"textfield_9116414\": null, \"fileupload_7219011\": null, \"list_6462402_other\": null, \"list_9115461_other\": null, \"textfield_10176495\": null, \"textfield_10176836\": null, \"list_6462400_choice\": \"A low priority. This only requires everyday familiarity with my industry or source material.\", \"list_6462401_choice\": \"Critical. I want someone with extensive experience in these situations.\", \"list_9048040_choice\": \"In the next 24 hours\", \"list_9080733_choice\": null, \"list_9115461_choice\": null, \"list_9116692_choice\": null, \"list_9117425_choice\": null, \"list_10881559_choice\": null, \"listimage_9077858_other\": null, \"listimage_7603806_choice\": \"interpreting (in-person)\", \"listimage_9077858_choice\": \"business meeting\", \"list_6462402_choice_7683146\": null, \"list_6462402_choice_7683147\": null, \"list_6462402_choice_8148701\": null, \"list_6462402_choice_8251708\": null}}\"'"
      ]
     },
     "execution_count": 8,
     "metadata": {},
     "output_type": "execute_result"
    }
   ],
   "source": [
    "job_sample"
   ]
  },
  {
   "cell_type": "markdown",
   "metadata": {},
   "source": [
    "* interested feature\n",
    "dropdown_7603830 : industry\n",
    "listimage_7603806_choice : service_type\n",
    "list_6462400_choice : industry_depth\n",
    "dropdown_9077980 : location\n",
    "fileupload_7219011: prep_file_URL\n",
    "list_9048040_choice : deadline"
   ]
  },
  {
   "cell_type": "code",
   "execution_count": 9,
   "metadata": {
    "collapsed": false
   },
   "outputs": [],
   "source": [
    "df_jobs = df_jobs[pd.notnull(df_jobs['job_details'])]"
   ]
  },
  {
   "cell_type": "code",
   "execution_count": 10,
   "metadata": {
    "collapsed": false
   },
   "outputs": [],
   "source": [
    "df_jobs['inserted_at'] = pd.to_datetime(df_jobs['inserted_at'])"
   ]
  },
  {
   "cell_type": "code",
   "execution_count": 11,
   "metadata": {
    "collapsed": false
   },
   "outputs": [
    {
     "data": {
      "text/plain": [
       "Timedelta('-2 days +11:05:05')"
      ]
     },
     "execution_count": 11,
     "metadata": {},
     "output_type": "execute_result"
    }
   ],
   "source": [
    "df_jobs['inserted_at'][0] - df_jobs['inserted_at'][1]"
   ]
  },
  {
   "cell_type": "code",
   "execution_count": 12,
   "metadata": {
    "collapsed": false
   },
   "outputs": [],
   "source": [
    "df_jobs['job_details'] = df_jobs['job_details'].apply(lambda x: json.loads(x[11:-2]))"
   ]
  },
  {
   "cell_type": "code",
   "execution_count": 13,
   "metadata": {
    "collapsed": true
   },
   "outputs": [],
   "source": [
    "name_code = {'industry':'dropdown_7603830', 'service_type':'listimage_7603806_choice', 'industry_depth': 'list_6462400_choice', \n",
    "'location':'dropdown_9077980','prep_file_URL':'fileupload_7219011', 'deadline':'list_9048040_choice'} "
   ]
  },
  {
   "cell_type": "code",
   "execution_count": 15,
   "metadata": {
    "collapsed": false
   },
   "outputs": [],
   "source": [
    "for k, v in name_code.iteritems():\n",
    "    df_jobs[k] = df_jobs['job_details'].apply(lambda x: x[v])"
   ]
  },
  {
   "cell_type": "code",
   "execution_count": 16,
   "metadata": {
    "collapsed": false
   },
   "outputs": [
    {
     "data": {
      "text/html": [
       "<div>\n",
       "<table border=\"1\" class=\"dataframe\">\n",
       "  <thead>\n",
       "    <tr style=\"text-align: right;\">\n",
       "      <th></th>\n",
       "      <th>id</th>\n",
       "      <th>requester_id</th>\n",
       "      <th>inserted_at</th>\n",
       "      <th>job_details</th>\n",
       "      <th>industry</th>\n",
       "      <th>service_type</th>\n",
       "      <th>industry_depth</th>\n",
       "      <th>location</th>\n",
       "      <th>prep_file_URL</th>\n",
       "      <th>deadline</th>\n",
       "    </tr>\n",
       "  </thead>\n",
       "  <tbody>\n",
       "    <tr>\n",
       "      <th>0</th>\n",
       "      <td>1</td>\n",
       "      <td>22</td>\n",
       "      <td>2015-11-05 14:51:43</td>\n",
       "      <td>{u'list_9048040_choice': u'In the next 24 hour...</td>\n",
       "      <td>Agriculture</td>\n",
       "      <td>interpreting (in-person)</td>\n",
       "      <td>Critical. Being able to understand terminology...</td>\n",
       "      <td>Ningbo</td>\n",
       "      <td>None</td>\n",
       "      <td>In the next 24 hours</td>\n",
       "    </tr>\n",
       "  </tbody>\n",
       "</table>\n",
       "</div>"
      ],
      "text/plain": [
       "   id  requester_id         inserted_at  \\\n",
       "0   1            22 2015-11-05 14:51:43   \n",
       "\n",
       "                                         job_details     industry  \\\n",
       "0  {u'list_9048040_choice': u'In the next 24 hour...  Agriculture   \n",
       "\n",
       "               service_type  \\\n",
       "0  interpreting (in-person)   \n",
       "\n",
       "                                      industry_depth location prep_file_URL  \\\n",
       "0  Critical. Being able to understand terminology...   Ningbo          None   \n",
       "\n",
       "               deadline  \n",
       "0  In the next 24 hours  "
      ]
     },
     "execution_count": 16,
     "metadata": {},
     "output_type": "execute_result"
    }
   ],
   "source": [
    "df_jobs.head(1)"
   ]
  },
  {
   "cell_type": "code",
   "execution_count": 17,
   "metadata": {
    "collapsed": false
   },
   "outputs": [
    {
     "data": {
      "text/plain": [
       "array([u'In the next 24 hours', u'In the next week', None,\n",
       "       u'Sometime later'], dtype=object)"
      ]
     },
     "execution_count": 17,
     "metadata": {},
     "output_type": "execute_result"
    }
   ],
   "source": [
    "df_jobs['deadline'].unique()"
   ]
  },
  {
   "cell_type": "code",
   "execution_count": 18,
   "metadata": {
    "collapsed": false
   },
   "outputs": [
    {
     "name": "stdout",
     "output_type": "stream",
     "text": [
      "<class 'pandas.core.frame.DataFrame'>\n",
      "Int64Index: 657 entries, 0 to 660\n",
      "Data columns (total 10 columns):\n",
      "id                657 non-null int64\n",
      "requester_id      657 non-null int64\n",
      "inserted_at       657 non-null datetime64[ns]\n",
      "job_details       657 non-null object\n",
      "industry          657 non-null object\n",
      "service_type      657 non-null object\n",
      "industry_depth    657 non-null object\n",
      "location          196 non-null object\n",
      "prep_file_URL     14 non-null object\n",
      "deadline          430 non-null object\n",
      "dtypes: datetime64[ns](1), int64(2), object(7)\n",
      "memory usage: 56.5+ KB\n"
     ]
    }
   ],
   "source": [
    "df_jobs.info()"
   ]
  },
  {
   "cell_type": "code",
   "execution_count": 20,
   "metadata": {
    "collapsed": false
   },
   "outputs": [],
   "source": [
    "df_jobs.to_csv('jobs_analyzed.csv')"
   ]
  },
  {
   "cell_type": "code",
   "execution_count": null,
   "metadata": {
    "collapsed": true
   },
   "outputs": [],
   "source": []
  }
 ],
 "metadata": {
  "kernelspec": {
   "display_name": "Python 2",
   "language": "python",
   "name": "python2"
  },
  "language_info": {
   "codemirror_mode": {
    "name": "ipython",
    "version": 2
   },
   "file_extension": ".py",
   "mimetype": "text/x-python",
   "name": "python",
   "nbconvert_exporter": "python",
   "pygments_lexer": "ipython2",
   "version": "2.7.11"
  }
 },
 "nbformat": 4,
 "nbformat_minor": 0
}
