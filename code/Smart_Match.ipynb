{
 "cells": [
  {
   "cell_type": "markdown",
   "metadata": {},
   "source": [
    "# Smart Match Project Exploring"
   ]
  },
  {
   "cell_type": "markdown",
   "metadata": {},
   "source": [
    "### EDA"
   ]
  },
  {
   "cell_type": "code",
   "execution_count": 1,
   "metadata": {
    "collapsed": true
   },
   "outputs": [],
   "source": [
    "import pandas as pd\n",
    "import json"
   ]
  },
  {
   "cell_type": "code",
   "execution_count": 2,
   "metadata": {
    "collapsed": false
   },
   "outputs": [],
   "source": [
    "filename = '../data/raw_data_jobs.csv'\n",
    "df_jobs = pd.read_csv(filename)"
   ]
  },
  {
   "cell_type": "code",
   "execution_count": 3,
   "metadata": {
    "collapsed": false
   },
   "outputs": [
    {
     "name": "stdout",
     "output_type": "stream",
     "text": [
      "<class 'pandas.core.frame.DataFrame'>\n",
      "Int64Index: 661 entries, 0 to 660\n",
      "Data columns (total 10 columns):\n",
      "id                661 non-null int64\n",
      "requester_id      661 non-null int64\n",
      "inserted_at       661 non-null object\n",
      "job_details       657 non-null object\n",
      "industry          0 non-null float64\n",
      "service_type      0 non-null float64\n",
      "industry_depth    0 non-null float64\n",
      "location          0 non-null float64\n",
      "prep_file_URL     0 non-null float64\n",
      "deadline          0 non-null float64\n",
      "dtypes: float64(6), int64(2), object(2)\n",
      "memory usage: 56.8+ KB\n"
     ]
    }
   ],
   "source": [
    "df_jobs.info()"
   ]
  },
  {
   "cell_type": "code",
   "execution_count": 4,
   "metadata": {
    "collapsed": false
   },
   "outputs": [
    {
     "data": {
      "text/html": [
       "<div>\n",
       "<table border=\"1\" class=\"dataframe\">\n",
       "  <thead>\n",
       "    <tr style=\"text-align: right;\">\n",
       "      <th></th>\n",
       "      <th>id</th>\n",
       "      <th>requester_id</th>\n",
       "      <th>inserted_at</th>\n",
       "      <th>job_details</th>\n",
       "      <th>industry</th>\n",
       "      <th>service_type</th>\n",
       "      <th>industry_depth</th>\n",
       "      <th>location</th>\n",
       "      <th>prep_file_URL</th>\n",
       "      <th>deadline</th>\n",
       "    </tr>\n",
       "  </thead>\n",
       "  <tbody>\n",
       "    <tr>\n",
       "      <th>0</th>\n",
       "      <td>1</td>\n",
       "      <td>22</td>\n",
       "      <td>11/5/2015 14:51:43</td>\n",
       "      <td>{answers\": {\"email_8765490\": null, \"email_9107...</td>\n",
       "      <td>NaN</td>\n",
       "      <td>NaN</td>\n",
       "      <td>NaN</td>\n",
       "      <td>NaN</td>\n",
       "      <td>NaN</td>\n",
       "      <td>NaN</td>\n",
       "    </tr>\n",
       "  </tbody>\n",
       "</table>\n",
       "</div>"
      ],
      "text/plain": [
       "   id  requester_id         inserted_at  \\\n",
       "0   1            22  11/5/2015 14:51:43   \n",
       "\n",
       "                                         job_details  industry  service_type  \\\n",
       "0  {answers\": {\"email_8765490\": null, \"email_9107...       NaN           NaN   \n",
       "\n",
       "   industry_depth  location  prep_file_URL  deadline  \n",
       "0             NaN       NaN            NaN       NaN  "
      ]
     },
     "execution_count": 4,
     "metadata": {},
     "output_type": "execute_result"
    }
   ],
   "source": [
    "df_jobs.head(1)"
   ]
  },
  {
   "cell_type": "markdown",
   "metadata": {},
   "source": [
    "check the job_details"
   ]
  },
  {
   "cell_type": "code",
   "execution_count": 5,
   "metadata": {
    "collapsed": true
   },
   "outputs": [],
   "source": [
    "job_sample = df_jobs['job_details'][1]"
   ]
  },
  {
   "cell_type": "code",
   "execution_count": 6,
   "metadata": {
    "collapsed": false
   },
   "outputs": [
    {
     "data": {
      "text/plain": [
       "'{answers\": {\"email_8765490\": null, \"email_9107531\": null, \"rating_9045688\": \"1\", \"yesno_10176601\": \"0\", \"dropdown_7603830\": \"Archaeology\", \"dropdown_9077980\": \"Shanghai\", \"textarea_7603814\": null, \"textarea_10173448\": \"TEST\", \"textfield_9116414\": null, \"fileupload_7219011\": null, \"list_6462402_other\": null, \"list_9115461_other\": null, \"textfield_10176495\": null, \"textfield_10176836\": null, \"list_6462400_choice\": \"A low priority. This only requires everyday familiarity with my industry or source material.\", \"list_6462401_choice\": \"Critical. I want someone with extensive experience in these situations.\", \"list_9048040_choice\": \"In the next 24 hours\", \"list_9080733_choice\": null, \"list_9115461_choice\": null, \"list_9116692_choice\": null, \"list_9117425_choice\": null, \"list_10881559_choice\": null, \"listimage_9077858_other\": null, \"listimage_7603806_choice\": \"interpreting (in-person)\", \"listimage_9077858_choice\": \"business meeting\", \"list_6462402_choice_7683146\": null, \"list_6462402_choice_7683147\": null, \"list_6462402_choice_8148701\": null, \"list_6462402_choice_8251708\": null}}\"'"
      ]
     },
     "execution_count": 6,
     "metadata": {},
     "output_type": "execute_result"
    }
   ],
   "source": [
    "job_sample"
   ]
  },
  {
   "cell_type": "markdown",
   "metadata": {},
   "source": [
    "* interested feature\n",
    "dropdown_7603830 : industry\n",
    "listimage_7603806_choice : service_type\n",
    "list_6462400_choice : industry_depth\n",
    "dropdown_9077980 : location\n",
    "fileupload_7219011: prep_file_URL\n",
    "list_9048040_choice : deadline"
   ]
  },
  {
   "cell_type": "markdown",
   "metadata": {},
   "source": [
    "### Get rid of missing value"
   ]
  },
  {
   "cell_type": "code",
   "execution_count": 7,
   "metadata": {
    "collapsed": false
   },
   "outputs": [],
   "source": [
    "df_jobs = df_jobs[pd.notnull(df_jobs['job_details'])]"
   ]
  },
  {
   "cell_type": "code",
   "execution_count": 8,
   "metadata": {
    "collapsed": false
   },
   "outputs": [],
   "source": [
    "df_jobs['inserted_at'] = pd.to_datetime(df_jobs['inserted_at'])"
   ]
  },
  {
   "cell_type": "code",
   "execution_count": 9,
   "metadata": {
    "collapsed": false
   },
   "outputs": [
    {
     "data": {
      "text/plain": [
       "Timedelta('-2 days +11:05:05')"
      ]
     },
     "execution_count": 9,
     "metadata": {},
     "output_type": "execute_result"
    }
   ],
   "source": [
    "df_jobs['inserted_at'][0] - df_jobs['inserted_at'][1]"
   ]
  },
  {
   "cell_type": "code",
   "execution_count": 10,
   "metadata": {
    "collapsed": false
   },
   "outputs": [],
   "source": [
    "df_jobs['job_details'] = df_jobs['job_details'].apply(lambda x: json.loads(x[11:-2]))"
   ]
  },
  {
   "cell_type": "markdown",
   "metadata": {},
   "source": [
    "#### Extract target field"
   ]
  },
  {
   "cell_type": "code",
   "execution_count": 11,
   "metadata": {
    "collapsed": true
   },
   "outputs": [],
   "source": [
    "name_code = {'industry':'dropdown_7603830', 'service_type':'listimage_7603806_choice', 'industry_depth': 'list_6462400_choice', \n",
    "'location':'dropdown_9077980','prep_file_URL':'fileupload_7219011', 'deadline':'list_9048040_choice'} "
   ]
  },
  {
   "cell_type": "code",
   "execution_count": 12,
   "metadata": {
    "collapsed": false
   },
   "outputs": [],
   "source": [
    "for k, v in name_code.iteritems():\n",
    "    df_jobs[k] = df_jobs['job_details'].apply(lambda x: x[v])"
   ]
  },
  {
   "cell_type": "code",
   "execution_count": 13,
   "metadata": {
    "collapsed": false
   },
   "outputs": [
    {
     "data": {
      "text/html": [
       "<div>\n",
       "<table border=\"1\" class=\"dataframe\">\n",
       "  <thead>\n",
       "    <tr style=\"text-align: right;\">\n",
       "      <th></th>\n",
       "      <th>id</th>\n",
       "      <th>requester_id</th>\n",
       "      <th>inserted_at</th>\n",
       "      <th>job_details</th>\n",
       "      <th>industry</th>\n",
       "      <th>service_type</th>\n",
       "      <th>industry_depth</th>\n",
       "      <th>location</th>\n",
       "      <th>prep_file_URL</th>\n",
       "      <th>deadline</th>\n",
       "    </tr>\n",
       "  </thead>\n",
       "  <tbody>\n",
       "    <tr>\n",
       "      <th>0</th>\n",
       "      <td>1</td>\n",
       "      <td>22</td>\n",
       "      <td>2015-11-05 14:51:43</td>\n",
       "      <td>{u'list_9048040_choice': u'In the next 24 hour...</td>\n",
       "      <td>Agriculture</td>\n",
       "      <td>interpreting (in-person)</td>\n",
       "      <td>Critical. Being able to understand terminology...</td>\n",
       "      <td>Ningbo</td>\n",
       "      <td>None</td>\n",
       "      <td>In the next 24 hours</td>\n",
       "    </tr>\n",
       "  </tbody>\n",
       "</table>\n",
       "</div>"
      ],
      "text/plain": [
       "   id  requester_id         inserted_at  \\\n",
       "0   1            22 2015-11-05 14:51:43   \n",
       "\n",
       "                                         job_details     industry  \\\n",
       "0  {u'list_9048040_choice': u'In the next 24 hour...  Agriculture   \n",
       "\n",
       "               service_type  \\\n",
       "0  interpreting (in-person)   \n",
       "\n",
       "                                      industry_depth location prep_file_URL  \\\n",
       "0  Critical. Being able to understand terminology...   Ningbo          None   \n",
       "\n",
       "               deadline  \n",
       "0  In the next 24 hours  "
      ]
     },
     "execution_count": 13,
     "metadata": {},
     "output_type": "execute_result"
    }
   ],
   "source": [
    "df_jobs.head(1)"
   ]
  },
  {
   "cell_type": "code",
   "execution_count": 14,
   "metadata": {
    "collapsed": false
   },
   "outputs": [
    {
     "data": {
      "text/plain": [
       "array([u'In the next 24 hours', u'In the next week', None,\n",
       "       u'Sometime later'], dtype=object)"
      ]
     },
     "execution_count": 14,
     "metadata": {},
     "output_type": "execute_result"
    }
   ],
   "source": [
    "df_jobs['deadline'].unique()"
   ]
  },
  {
   "cell_type": "code",
   "execution_count": 15,
   "metadata": {
    "collapsed": false
   },
   "outputs": [
    {
     "name": "stdout",
     "output_type": "stream",
     "text": [
      "<class 'pandas.core.frame.DataFrame'>\n",
      "Int64Index: 657 entries, 0 to 660\n",
      "Data columns (total 10 columns):\n",
      "id                657 non-null int64\n",
      "requester_id      657 non-null int64\n",
      "inserted_at       657 non-null datetime64[ns]\n",
      "job_details       657 non-null object\n",
      "industry          657 non-null object\n",
      "service_type      657 non-null object\n",
      "industry_depth    657 non-null object\n",
      "location          196 non-null object\n",
      "prep_file_URL     14 non-null object\n",
      "deadline          430 non-null object\n",
      "dtypes: datetime64[ns](1), int64(2), object(7)\n",
      "memory usage: 56.5+ KB\n"
     ]
    }
   ],
   "source": [
    "df_jobs.info()"
   ]
  },
  {
   "cell_type": "markdown",
   "metadata": {},
   "source": [
    "* check missing values for location, prep_file_URL and deadline"
   ]
  },
  {
   "cell_type": "code",
   "execution_count": 16,
   "metadata": {
    "collapsed": false
   },
   "outputs": [],
   "source": [
    "a = df_jobs[pd.isnull(df_jobs['deadline'])]"
   ]
  },
  {
   "cell_type": "code",
   "execution_count": 17,
   "metadata": {
    "collapsed": false
   },
   "outputs": [
    {
     "data": {
      "text/plain": [
       "{u'dropdown_7603830': u'Marketing',\n",
       " u'dropdown_9077980': None,\n",
       " u'email_8765490': None,\n",
       " u'email_9107531': None,\n",
       " u'fileupload_7219011': None,\n",
       " u'list_10881559_choice': u'Capture the spirit of the source material',\n",
       " u'list_6462400_choice': u\"Important. I'm willing to tolerate some amount of unfamiliarity.\",\n",
       " u'list_6462401_choice': None,\n",
       " u'list_6462402_choice_7683146': None,\n",
       " u'list_6462402_choice_7683147': None,\n",
       " u'list_6462402_choice_8148701': None,\n",
       " u'list_6462402_choice_8251708': None,\n",
       " u'list_6462402_other': None,\n",
       " u'list_9048040_choice': None,\n",
       " u'list_9080733_choice': u'In the next week ',\n",
       " u'list_9115461_choice': None,\n",
       " u'list_9115461_other': u'English to German and French',\n",
       " u'list_9116692_choice': None,\n",
       " u'list_9117425_choice': u'Important. The Panda needs to know what to expect.',\n",
       " u'listimage_7603806_choice': u'translation',\n",
       " u'listimage_9077858_choice': None,\n",
       " u'listimage_9077858_other': None,\n",
       " u'rating_9045688': u'1',\n",
       " u'textarea_10173448': u'English to German and French',\n",
       " u'textarea_7603814': None,\n",
       " u'textfield_10176495': None,\n",
       " u'textfield_10176836': None,\n",
       " u'textfield_9116414': None,\n",
       " u'yesno_10176601': u'0',\n",
       " u'yesno_8163475': u'0'}"
      ]
     },
     "execution_count": 17,
     "metadata": {},
     "output_type": "execute_result"
    }
   ],
   "source": [
    "a['job_details'][4]"
   ]
  },
  {
   "cell_type": "markdown",
   "metadata": {},
   "source": [
    "'list_9080733_choice' is another potential file for the deadline"
   ]
  },
  {
   "cell_type": "code",
   "execution_count": 18,
   "metadata": {
    "collapsed": false
   },
   "outputs": [],
   "source": [
    "df_deadline_none = df_jobs[pd.isnull(df_jobs['deadline'])]"
   ]
  },
  {
   "cell_type": "code",
   "execution_count": 19,
   "metadata": {
    "collapsed": false
   },
   "outputs": [
    {
     "name": "stdout",
     "output_type": "stream",
     "text": [
      "<class 'pandas.core.frame.DataFrame'>\n",
      "Int64Index: 227 entries, 4 to 660\n",
      "Data columns (total 10 columns):\n",
      "id                227 non-null int64\n",
      "requester_id      227 non-null int64\n",
      "inserted_at       227 non-null datetime64[ns]\n",
      "job_details       227 non-null object\n",
      "industry          227 non-null object\n",
      "service_type      227 non-null object\n",
      "industry_depth    227 non-null object\n",
      "location          0 non-null object\n",
      "prep_file_URL     11 non-null object\n",
      "deadline          0 non-null object\n",
      "dtypes: datetime64[ns](1), int64(2), object(7)\n",
      "memory usage: 19.5+ KB\n"
     ]
    }
   ],
   "source": [
    "df_deadline_none.info()"
   ]
  },
  {
   "cell_type": "code",
   "execution_count": 20,
   "metadata": {
    "collapsed": false
   },
   "outputs": [],
   "source": [
    "df_jobs['deadline2']= df_jobs['job_details'].apply(lambda x: x['list_9080733_choice'])"
   ]
  },
  {
   "cell_type": "code",
   "execution_count": 21,
   "metadata": {
    "collapsed": false
   },
   "outputs": [],
   "source": [
    "mask= (pd.notnull(df_jobs['deadline']) & pd.notnull(df_jobs['deadline2']))"
   ]
  },
  {
   "cell_type": "code",
   "execution_count": 22,
   "metadata": {
    "collapsed": false
   },
   "outputs": [
    {
     "data": {
      "text/html": [
       "<div>\n",
       "<table border=\"1\" class=\"dataframe\">\n",
       "  <thead>\n",
       "    <tr style=\"text-align: right;\">\n",
       "      <th></th>\n",
       "      <th>265</th>\n",
       "    </tr>\n",
       "  </thead>\n",
       "  <tbody>\n",
       "    <tr>\n",
       "      <th>id</th>\n",
       "      <td>267</td>\n",
       "    </tr>\n",
       "    <tr>\n",
       "      <th>requester_id</th>\n",
       "      <td>286</td>\n",
       "    </tr>\n",
       "    <tr>\n",
       "      <th>inserted_at</th>\n",
       "      <td>2016-01-25 02:01:03</td>\n",
       "    </tr>\n",
       "    <tr>\n",
       "      <th>job_details</th>\n",
       "      <td>{u'list_9048040_choice': u'Sometime later', u'...</td>\n",
       "    </tr>\n",
       "    <tr>\n",
       "      <th>industry</th>\n",
       "      <td>Automotive</td>\n",
       "    </tr>\n",
       "    <tr>\n",
       "      <th>service_type</th>\n",
       "      <td>interpreting (in-person)</td>\n",
       "    </tr>\n",
       "    <tr>\n",
       "      <th>industry_depth</th>\n",
       "      <td>Important. I'm willing to tolerate some amount...</td>\n",
       "    </tr>\n",
       "    <tr>\n",
       "      <th>location</th>\n",
       "      <td>Hong Kong</td>\n",
       "    </tr>\n",
       "    <tr>\n",
       "      <th>prep_file_URL</th>\n",
       "      <td>None</td>\n",
       "    </tr>\n",
       "    <tr>\n",
       "      <th>deadline</th>\n",
       "      <td>Sometime later</td>\n",
       "    </tr>\n",
       "    <tr>\n",
       "      <th>deadline2</th>\n",
       "      <td>Sometime later</td>\n",
       "    </tr>\n",
       "  </tbody>\n",
       "</table>\n",
       "</div>"
      ],
      "text/plain": [
       "                                                              265\n",
       "id                                                            267\n",
       "requester_id                                                  286\n",
       "inserted_at                                   2016-01-25 02:01:03\n",
       "job_details     {u'list_9048040_choice': u'Sometime later', u'...\n",
       "industry                                               Automotive\n",
       "service_type                             interpreting (in-person)\n",
       "industry_depth  Important. I'm willing to tolerate some amount...\n",
       "location                                                Hong Kong\n",
       "prep_file_URL                                                None\n",
       "deadline                                           Sometime later\n",
       "deadline2                                          Sometime later"
      ]
     },
     "execution_count": 22,
     "metadata": {},
     "output_type": "execute_result"
    }
   ],
   "source": [
    "df_jobs[mask].T"
   ]
  },
  {
   "cell_type": "markdown",
   "metadata": {},
   "source": [
    "* There is one record are duplicate for deadline, buttwo values are the same"
   ]
  },
  {
   "cell_type": "code",
   "execution_count": 23,
   "metadata": {
    "collapsed": false
   },
   "outputs": [],
   "source": [
    "t = df_jobs[df_jobs['id']==267]['job_details']"
   ]
  },
  {
   "cell_type": "code",
   "execution_count": 24,
   "metadata": {
    "collapsed": false
   },
   "outputs": [
    {
     "name": "stdout",
     "output_type": "stream",
     "text": [
      "265 {u'list_9048040_choice': u'Sometime later', u'list_6462402_choice_8148701': None, u'fileupload_7219011': None, u'textarea_7603814': None, u'list_9115461_other': None, u'list_10881559_choice': u'Capture the spirit of the source material', u'textfield_10176495': None, u'list_6462402_other': None, u'list_9117425_choice': u'A low priority. This is a relatively straightforward event.', u'dropdown_7603830': u'Automotive', u'email_8765490': u'seekpandatest@mailinator.com', u'textarea_10173448': u'testing testing', u'list_9080733_choice': u'Sometime later', u'number_8765476': u'123456789', u'list_6462400_choice': u\"Important. I'm willing to tolerate some amount of unfamiliarity.\", u'textfield_9116414': None, u'list_6462402_choice_7683146': u'I would like to watch an intro video of my Panda before I hire them', u'list_6462402_choice_7683147': None, u'list_9116692_choice': None, u'list_6462401_choice': u'Important. The Panda needs to know what to expect.', u'listimage_7603806_choice': u'interpreting (in-person)', u'email_9107531': None, u'listimage_9077858_choice': u'discussion / interview', u'textfield_10176836': None, u'dropdown_9077980': u'Hong Kong', u'listimage_9077858_other': None, u'list_9115461_choice': u'English -> Mandarin (traditional, i.e. Taiwan)', u'list_6462402_choice_8251708': u'$ I require a native English speaker', u'terms_10111743': u'1'}\n"
     ]
    }
   ],
   "source": [
    "for k, v in t.iteritems():\n",
    "    print k, v"
   ]
  },
  {
   "cell_type": "code",
   "execution_count": 25,
   "metadata": {
    "collapsed": false
   },
   "outputs": [],
   "source": [
    "df_jobs['deadline'].fillna(df_jobs['deadline2'], inplace=True)"
   ]
  },
  {
   "cell_type": "code",
   "execution_count": 26,
   "metadata": {
    "collapsed": true
   },
   "outputs": [],
   "source": [
    "del df_jobs['deadline2']"
   ]
  },
  {
   "cell_type": "code",
   "execution_count": 27,
   "metadata": {
    "collapsed": false
   },
   "outputs": [
    {
     "name": "stdout",
     "output_type": "stream",
     "text": [
      "<class 'pandas.core.frame.DataFrame'>\n",
      "Int64Index: 657 entries, 0 to 660\n",
      "Data columns (total 10 columns):\n",
      "id                657 non-null int64\n",
      "requester_id      657 non-null int64\n",
      "inserted_at       657 non-null datetime64[ns]\n",
      "job_details       657 non-null object\n",
      "industry          657 non-null object\n",
      "service_type      657 non-null object\n",
      "industry_depth    657 non-null object\n",
      "location          196 non-null object\n",
      "prep_file_URL     14 non-null object\n",
      "deadline          657 non-null object\n",
      "dtypes: datetime64[ns](1), int64(2), object(7)\n",
      "memory usage: 56.5+ KB\n"
     ]
    }
   ],
   "source": [
    "df_jobs.info()"
   ]
  },
  {
   "cell_type": "code",
   "execution_count": 28,
   "metadata": {
    "collapsed": false
   },
   "outputs": [],
   "source": [
    "t = df_jobs[pd.isnull(df_jobs['location'])]"
   ]
  },
  {
   "cell_type": "code",
   "execution_count": 29,
   "metadata": {
    "collapsed": false
   },
   "outputs": [
    {
     "name": "stdout",
     "output_type": "stream",
     "text": [
      "<class 'pandas.core.frame.DataFrame'>\n",
      "Int64Index: 461 entries, 3 to 660\n",
      "Data columns (total 10 columns):\n",
      "id                461 non-null int64\n",
      "requester_id      461 non-null int64\n",
      "inserted_at       461 non-null datetime64[ns]\n",
      "job_details       461 non-null object\n",
      "industry          461 non-null object\n",
      "service_type      461 non-null object\n",
      "industry_depth    461 non-null object\n",
      "location          0 non-null object\n",
      "prep_file_URL     11 non-null object\n",
      "deadline          461 non-null object\n",
      "dtypes: datetime64[ns](1), int64(2), object(7)\n",
      "memory usage: 39.6+ KB\n"
     ]
    }
   ],
   "source": [
    "t.info()"
   ]
  },
  {
   "cell_type": "markdown",
   "metadata": {},
   "source": [
    "#### check no location information in t"
   ]
  },
  {
   "cell_type": "code",
   "execution_count": 30,
   "metadata": {
    "collapsed": false
   },
   "outputs": [],
   "source": [
    "t_loc = df_jobs[pd.notnull(df_jobs['location'])]['location'].unique()"
   ]
  },
  {
   "cell_type": "code",
   "execution_count": 31,
   "metadata": {
    "collapsed": false
   },
   "outputs": [
    {
     "data": {
      "text/plain": [
       "array([u'Ningbo', u'Shanghai', u'Hong Kong', u'Beijing', u'Nanjing',\n",
       "       u'Elsewhere globally', u'Tianjin', u'Shenyang',\n",
       "       u'Elsewhere in Mainland China', u'Wuhan', u'Macau', u'Guangzhou',\n",
       "       u'Zhengzhou', u'Foshan', u'Fuzhou', u'Shenzhen', u'Chengdu',\n",
       "       u'Changsha', u'Hangzhou', u'Elsewhere in the US', u'Amsterdam',\n",
       "       u'Los Angeles'], dtype=object)"
      ]
     },
     "execution_count": 31,
     "metadata": {},
     "output_type": "execute_result"
    }
   ],
   "source": [
    "t_loc"
   ]
  },
  {
   "cell_type": "code",
   "execution_count": 32,
   "metadata": {
    "collapsed": false
   },
   "outputs": [
    {
     "name": "stderr",
     "output_type": "stream",
     "text": [
      "/home/hao/anaconda/lib/python2.7/site-packages/IPython/kernel/__main__.py:7: FutureWarning: comparison to `None` will result in an elementwise object comparison in the future.\n"
     ]
    }
   ],
   "source": [
    "count_missing = 0\n",
    "count_none = 0\n",
    "count_row = 0\n",
    "for row in t['job_details']:\n",
    "    count_row += 1\n",
    "    for k, v in row.iteritems():\n",
    "        if v in t_loc:\n",
    "            print k\n",
    "            count_missing +=1"
   ]
  },
  {
   "cell_type": "code",
   "execution_count": 33,
   "metadata": {
    "collapsed": false
   },
   "outputs": [
    {
     "data": {
      "text/plain": [
       "(0, 461)"
      ]
     },
     "execution_count": 33,
     "metadata": {},
     "output_type": "execute_result"
    }
   ],
   "source": [
    "count_missing, count_row"
   ]
  },
  {
   "cell_type": "markdown",
   "metadata": {},
   "source": [
    "* There is 461 missing value in locations and there is only 11 prep_file_URL provided."
   ]
  },
  {
   "cell_type": "markdown",
   "metadata": {},
   "source": [
    "### Change the time period to time point for the deadline"
   ]
  },
  {
   "cell_type": "code",
   "execution_count": 34,
   "metadata": {
    "collapsed": true
   },
   "outputs": [],
   "source": [
    "time_period = df_jobs['deadline'].unique()"
   ]
  },
  {
   "cell_type": "code",
   "execution_count": 35,
   "metadata": {
    "collapsed": false
   },
   "outputs": [
    {
     "data": {
      "text/plain": [
       "array([u'In the next 24 hours', u'In the next week', u'In the next week ',\n",
       "       u'Sometime later', u'In the next 24 hours '], dtype=object)"
      ]
     },
     "execution_count": 35,
     "metadata": {},
     "output_type": "execute_result"
    }
   ],
   "source": [
    "time_period"
   ]
  },
  {
   "cell_type": "code",
   "execution_count": 36,
   "metadata": {
    "collapsed": true
   },
   "outputs": [],
   "source": [
    "time_delta=[1, 7, 7, 30, 1]"
   ]
  },
  {
   "cell_type": "code",
   "execution_count": 37,
   "metadata": {
    "collapsed": true
   },
   "outputs": [],
   "source": [
    "time_period_dict={}\n",
    "for i in xrange(5):\n",
    "    time_period_dict[time_period[i]]=time_delta[i]"
   ]
  },
  {
   "cell_type": "code",
   "execution_count": 38,
   "metadata": {
    "collapsed": false
   },
   "outputs": [
    {
     "data": {
      "text/plain": [
       "{u'In the next 24 hours': 1,\n",
       " u'In the next 24 hours ': 1,\n",
       " u'In the next week': 7,\n",
       " u'In the next week ': 7,\n",
       " u'Sometime later': 30}"
      ]
     },
     "execution_count": 38,
     "metadata": {},
     "output_type": "execute_result"
    }
   ],
   "source": [
    "time_period_dict"
   ]
  },
  {
   "cell_type": "code",
   "execution_count": 39,
   "metadata": {
    "collapsed": true
   },
   "outputs": [],
   "source": [
    "df_jobs['deadline'].replace(time_period_dict, inplace=True)"
   ]
  },
  {
   "cell_type": "code",
   "execution_count": 40,
   "metadata": {
    "collapsed": false
   },
   "outputs": [
    {
     "data": {
      "text/html": [
       "<div>\n",
       "<table border=\"1\" class=\"dataframe\">\n",
       "  <thead>\n",
       "    <tr style=\"text-align: right;\">\n",
       "      <th></th>\n",
       "      <th>id</th>\n",
       "      <th>requester_id</th>\n",
       "      <th>inserted_at</th>\n",
       "      <th>job_details</th>\n",
       "      <th>industry</th>\n",
       "      <th>service_type</th>\n",
       "      <th>industry_depth</th>\n",
       "      <th>location</th>\n",
       "      <th>prep_file_URL</th>\n",
       "      <th>deadline</th>\n",
       "    </tr>\n",
       "  </thead>\n",
       "  <tbody>\n",
       "    <tr>\n",
       "      <th>0</th>\n",
       "      <td>1</td>\n",
       "      <td>22</td>\n",
       "      <td>2015-11-05 14:51:43</td>\n",
       "      <td>{u'list_9048040_choice': u'In the next 24 hour...</td>\n",
       "      <td>Agriculture</td>\n",
       "      <td>interpreting (in-person)</td>\n",
       "      <td>Critical. Being able to understand terminology...</td>\n",
       "      <td>Ningbo</td>\n",
       "      <td>None</td>\n",
       "      <td>1</td>\n",
       "    </tr>\n",
       "    <tr>\n",
       "      <th>1</th>\n",
       "      <td>2</td>\n",
       "      <td>22</td>\n",
       "      <td>2015-11-07 03:46:38</td>\n",
       "      <td>{u'list_9048040_choice': u'In the next 24 hour...</td>\n",
       "      <td>Archaeology</td>\n",
       "      <td>interpreting (in-person)</td>\n",
       "      <td>A low priority. This only requires everyday fa...</td>\n",
       "      <td>Shanghai</td>\n",
       "      <td>None</td>\n",
       "      <td>1</td>\n",
       "    </tr>\n",
       "  </tbody>\n",
       "</table>\n",
       "</div>"
      ],
      "text/plain": [
       "   id  requester_id         inserted_at  \\\n",
       "0   1            22 2015-11-05 14:51:43   \n",
       "1   2            22 2015-11-07 03:46:38   \n",
       "\n",
       "                                         job_details     industry  \\\n",
       "0  {u'list_9048040_choice': u'In the next 24 hour...  Agriculture   \n",
       "1  {u'list_9048040_choice': u'In the next 24 hour...  Archaeology   \n",
       "\n",
       "               service_type  \\\n",
       "0  interpreting (in-person)   \n",
       "1  interpreting (in-person)   \n",
       "\n",
       "                                      industry_depth  location prep_file_URL  \\\n",
       "0  Critical. Being able to understand terminology...    Ningbo          None   \n",
       "1  A low priority. This only requires everyday fa...  Shanghai          None   \n",
       "\n",
       "   deadline  \n",
       "0         1  \n",
       "1         1  "
      ]
     },
     "execution_count": 40,
     "metadata": {},
     "output_type": "execute_result"
    }
   ],
   "source": [
    "df_jobs.head(2)"
   ]
  },
  {
   "cell_type": "code",
   "execution_count": 41,
   "metadata": {
    "collapsed": false
   },
   "outputs": [],
   "source": [
    "df_jobs['deadline']=pd.to_timedelta(df_jobs['deadline'], unit='d')"
   ]
  },
  {
   "cell_type": "code",
   "execution_count": 42,
   "metadata": {
    "collapsed": true
   },
   "outputs": [],
   "source": [
    "df_jobs['deadline'] = df_jobs['deadline']+df_jobs['inserted_at']"
   ]
  },
  {
   "cell_type": "code",
   "execution_count": 43,
   "metadata": {
    "collapsed": false
   },
   "outputs": [
    {
     "name": "stdout",
     "output_type": "stream",
     "text": [
      "<class 'pandas.core.frame.DataFrame'>\n",
      "Int64Index: 657 entries, 0 to 660\n",
      "Data columns (total 10 columns):\n",
      "id                657 non-null int64\n",
      "requester_id      657 non-null int64\n",
      "inserted_at       657 non-null datetime64[ns]\n",
      "job_details       657 non-null object\n",
      "industry          657 non-null object\n",
      "service_type      657 non-null object\n",
      "industry_depth    657 non-null object\n",
      "location          196 non-null object\n",
      "prep_file_URL     14 non-null object\n",
      "deadline          657 non-null datetime64[ns]\n",
      "dtypes: datetime64[ns](2), int64(2), object(6)\n",
      "memory usage: 56.5+ KB\n"
     ]
    }
   ],
   "source": [
    "df_jobs.info()"
   ]
  },
  {
   "cell_type": "code",
   "execution_count": 44,
   "metadata": {
    "collapsed": false
   },
   "outputs": [
    {
     "data": {
      "text/html": [
       "<div>\n",
       "<table border=\"1\" class=\"dataframe\">\n",
       "  <thead>\n",
       "    <tr style=\"text-align: right;\">\n",
       "      <th></th>\n",
       "      <th>id</th>\n",
       "      <th>requester_id</th>\n",
       "      <th>inserted_at</th>\n",
       "      <th>job_details</th>\n",
       "      <th>industry</th>\n",
       "      <th>service_type</th>\n",
       "      <th>industry_depth</th>\n",
       "      <th>location</th>\n",
       "      <th>prep_file_URL</th>\n",
       "      <th>deadline</th>\n",
       "    </tr>\n",
       "  </thead>\n",
       "  <tbody>\n",
       "    <tr>\n",
       "      <th>0</th>\n",
       "      <td>1</td>\n",
       "      <td>22</td>\n",
       "      <td>2015-11-05 14:51:43</td>\n",
       "      <td>{u'list_9048040_choice': u'In the next 24 hour...</td>\n",
       "      <td>Agriculture</td>\n",
       "      <td>interpreting (in-person)</td>\n",
       "      <td>Critical. Being able to understand terminology...</td>\n",
       "      <td>Ningbo</td>\n",
       "      <td>None</td>\n",
       "      <td>2015-11-06 14:51:43</td>\n",
       "    </tr>\n",
       "    <tr>\n",
       "      <th>1</th>\n",
       "      <td>2</td>\n",
       "      <td>22</td>\n",
       "      <td>2015-11-07 03:46:38</td>\n",
       "      <td>{u'list_9048040_choice': u'In the next 24 hour...</td>\n",
       "      <td>Archaeology</td>\n",
       "      <td>interpreting (in-person)</td>\n",
       "      <td>A low priority. This only requires everyday fa...</td>\n",
       "      <td>Shanghai</td>\n",
       "      <td>None</td>\n",
       "      <td>2015-11-08 03:46:38</td>\n",
       "    </tr>\n",
       "  </tbody>\n",
       "</table>\n",
       "</div>"
      ],
      "text/plain": [
       "   id  requester_id         inserted_at  \\\n",
       "0   1            22 2015-11-05 14:51:43   \n",
       "1   2            22 2015-11-07 03:46:38   \n",
       "\n",
       "                                         job_details     industry  \\\n",
       "0  {u'list_9048040_choice': u'In the next 24 hour...  Agriculture   \n",
       "1  {u'list_9048040_choice': u'In the next 24 hour...  Archaeology   \n",
       "\n",
       "               service_type  \\\n",
       "0  interpreting (in-person)   \n",
       "1  interpreting (in-person)   \n",
       "\n",
       "                                      industry_depth  location prep_file_URL  \\\n",
       "0  Critical. Being able to understand terminology...    Ningbo          None   \n",
       "1  A low priority. This only requires everyday fa...  Shanghai          None   \n",
       "\n",
       "             deadline  \n",
       "0 2015-11-06 14:51:43  \n",
       "1 2015-11-08 03:46:38  "
      ]
     },
     "execution_count": 44,
     "metadata": {},
     "output_type": "execute_result"
    }
   ],
   "source": [
    "df_jobs.head(2)"
   ]
  },
  {
   "cell_type": "markdown",
   "metadata": {},
   "source": [
    "## Check Pandas file"
   ]
  },
  {
   "cell_type": "code",
   "execution_count": 45,
   "metadata": {
    "collapsed": true
   },
   "outputs": [],
   "source": [
    "pandas_file = '../data/raw_data_pandas.csv'"
   ]
  },
  {
   "cell_type": "code",
   "execution_count": 46,
   "metadata": {
    "collapsed": true
   },
   "outputs": [],
   "source": [
    "df_pandas = pd.read_csv(pandas_file)"
   ]
  },
  {
   "cell_type": "code",
   "execution_count": 47,
   "metadata": {
    "collapsed": false
   },
   "outputs": [
    {
     "data": {
      "text/html": [
       "<div>\n",
       "<table border=\"1\" class=\"dataframe\">\n",
       "  <thead>\n",
       "    <tr style=\"text-align: right;\">\n",
       "      <th></th>\n",
       "      <th>id</th>\n",
       "      <th>inserted_at</th>\n",
       "      <th>name</th>\n",
       "      <th>basecity</th>\n",
       "      <th>prices</th>\n",
       "      <th>target_price</th>\n",
       "      <th>specialties</th>\n",
       "      <th>capabilities</th>\n",
       "    </tr>\n",
       "  </thead>\n",
       "  <tbody>\n",
       "    <tr>\n",
       "      <th>0</th>\n",
       "      <td>1</td>\n",
       "      <td>11/2/2015 5:39:06</td>\n",
       "      <td>test</td>\n",
       "      <td>test</td>\n",
       "      <td>{interpretation_base\": \"111\", \"translation_cn_...</td>\n",
       "      <td>NaN</td>\n",
       "      <td>{accounting,advertising}</td>\n",
       "      <td>{architecture}</td>\n",
       "    </tr>\n",
       "    <tr>\n",
       "      <th>1</th>\n",
       "      <td>2</td>\n",
       "      <td>11/2/2015 15:46:11</td>\n",
       "      <td>David</td>\n",
       "      <td>Taipei</td>\n",
       "      <td>{interpretation_base\": \"13\", \"translation_cn_t...</td>\n",
       "      <td>NaN</td>\n",
       "      <td>{computers_and_computing,it_software_programmi...</td>\n",
       "      <td>{technology,toxicology,photography,music,it,hu...</td>\n",
       "    </tr>\n",
       "    <tr>\n",
       "      <th>2</th>\n",
       "      <td>3</td>\n",
       "      <td>11/2/2015 17:32:40</td>\n",
       "      <td>NaN</td>\n",
       "      <td>NaN</td>\n",
       "      <td>{}</td>\n",
       "      <td>NaN</td>\n",
       "      <td>{}</td>\n",
       "      <td>{}</td>\n",
       "    </tr>\n",
       "    <tr>\n",
       "      <th>3</th>\n",
       "      <td>4</td>\n",
       "      <td>11/3/2015 9:57:45</td>\n",
       "      <td>NaN</td>\n",
       "      <td>NaN</td>\n",
       "      <td>{}</td>\n",
       "      <td>NaN</td>\n",
       "      <td>{}</td>\n",
       "      <td>{}</td>\n",
       "    </tr>\n",
       "  </tbody>\n",
       "</table>\n",
       "</div>"
      ],
      "text/plain": [
       "   id         inserted_at   name basecity  \\\n",
       "0   1   11/2/2015 5:39:06   test     test   \n",
       "1   2  11/2/2015 15:46:11  David   Taipei   \n",
       "2   3  11/2/2015 17:32:40    NaN      NaN   \n",
       "3   4   11/3/2015 9:57:45    NaN      NaN   \n",
       "\n",
       "                                              prices  target_price  \\\n",
       "0  {interpretation_base\": \"111\", \"translation_cn_...           NaN   \n",
       "1  {interpretation_base\": \"13\", \"translation_cn_t...           NaN   \n",
       "2                                                 {}           NaN   \n",
       "3                                                 {}           NaN   \n",
       "\n",
       "                                         specialties  \\\n",
       "0                           {accounting,advertising}   \n",
       "1  {computers_and_computing,it_software_programmi...   \n",
       "2                                                 {}   \n",
       "3                                                 {}   \n",
       "\n",
       "                                        capabilities  \n",
       "0                                     {architecture}  \n",
       "1  {technology,toxicology,photography,music,it,hu...  \n",
       "2                                                 {}  \n",
       "3                                                 {}  "
      ]
     },
     "execution_count": 47,
     "metadata": {},
     "output_type": "execute_result"
    }
   ],
   "source": [
    "df_pandas.head(4)"
   ]
  },
  {
   "cell_type": "code",
   "execution_count": 48,
   "metadata": {
    "collapsed": false
   },
   "outputs": [
    {
     "name": "stdout",
     "output_type": "stream",
     "text": [
      "<class 'pandas.core.frame.DataFrame'>\n",
      "Int64Index: 347 entries, 0 to 346\n",
      "Data columns (total 8 columns):\n",
      "id              347 non-null int64\n",
      "inserted_at     347 non-null object\n",
      "name            257 non-null object\n",
      "basecity        255 non-null object\n",
      "prices          347 non-null object\n",
      "target_price    0 non-null float64\n",
      "specialties     347 non-null object\n",
      "capabilities    347 non-null object\n",
      "dtypes: float64(1), int64(1), object(6)\n",
      "memory usage: 24.4+ KB\n"
     ]
    }
   ],
   "source": [
    "df_pandas.info()"
   ]
  },
  {
   "cell_type": "code",
   "execution_count": 49,
   "metadata": {
    "collapsed": false
   },
   "outputs": [
    {
     "data": {
      "text/plain": [
       "array([ '{interpretation_base\": \"111\", \"translation_cn_to_en\": \"111\", \"translation_en_to_cn\": \"111\", \"interpretation_target\": \"111\"}\"',\n",
       "       '{interpretation_base\": \"13\", \"translation_cn_to_en\": \"0.5\", \"translation_en_to_cn\": \"0.1\", \"interpretation_target\": \"12\"}\"',\n",
       "       '{}',\n",
       "       '{interpretation_base\": \"50\", \"translation_cn_to_en\": \"0.12\", \"translation_en_to_cn\": \"0.1\", \"interpretation_target\": \"120\"}\"',\n",
       "       '{interpretation_base\": \"150\", \"translation_cn_to_en\": \".4\", \"translation_en_to_cn\": \"10\", \"interpretation_target\": \"225\"}\"',\n",
       "       '{interpretation_base\": \"100\", \"translation_cn_to_en\": \"0.1\", \"translation_en_to_cn\": \"0.1\", \"interpretation_target\": \"150\"}\"',\n",
       "       '{interpretation_base\": \"100\", \"translation_cn_to_en\": \"29\", \"translation_en_to_cn\": \"22\", \"interpretation_target\": \"150\"}\"',\n",
       "       '{interpretation_base\": \"50\", \"translation_cn_to_en\": \"0.05\", \"translation_en_to_cn\": \"0.04\", \"interpretation_target\": \"60\"}\"',\n",
       "       '{interpretation_base\": \"180\", \"translation_cn_to_en\": \"0.25\", \"translation_en_to_cn\": \"0.2\", \"interpretation_target\": \"250\"}\"',\n",
       "       '{interpretation_base\": \"15\", \"translation_cn_to_en\": \"0.11\", \"translation_en_to_cn\": \"0.11\", \"interpretation_target\": \"20\"}\"',\n",
       "       '{interpretation_base\": \"50\", \"translation_cn_to_en\": \"0.15\", \"translation_en_to_cn\": \"0.1\", \"interpretation_target\": \"85\"}\"',\n",
       "       '{interpretation_base\": \"0\", \"translation_cn_to_en\": \"0\", \"translation_en_to_cn\": \"0\", \"interpretation_target\": \"0\"}\"',\n",
       "       '{interpretation_base\": \"60\", \"translation_cn_to_en\": \"0.025\", \"translation_en_to_cn\": \"0.035\", \"interpretation_target\": \"95\"}\"',\n",
       "       '{interpretation_base\": \"120\", \"translation_cn_to_en\": \"0.8\", \"translation_en_to_cn\": \"0.5\", \"interpretation_target\": \"150\"}\"',\n",
       "       '{interpretation_base\": \"40\", \"translation_cn_to_en\": \"15\", \"translation_en_to_cn\": \"10\", \"interpretation_target\": \"50\"}\"',\n",
       "       '{interpretation_base\": \"175\", \"translation_cn_to_en\": \"0.18\", \"translation_en_to_cn\": \"0.20\", \"interpretation_target\": \"200\"}\"',\n",
       "       '{interpretation_base\": \"100\", \"translation_cn_to_en\": \"0.16\", \"translation_en_to_cn\": \"0.15\", \"interpretation_target\": \"150\"}\"',\n",
       "       '{interpretation_base\": \"250\", \"translation_cn_to_en\": \"0.2\", \"translation_en_to_cn\": \"0.2\", \"interpretation_target\": \"300\"}\"',\n",
       "       '{interpretation_base\": \"0\", \"translation_cn_to_en\": \"0.4\", \"translation_en_to_cn\": \"0.3\", \"interpretation_target\": \"0\"}\"',\n",
       "       '{interpretation_base\": \"70\", \"translation_cn_to_en\": \"0.15\", \"translation_en_to_cn\": \"0.12\", \"interpretation_target\": \"100\"}\"',\n",
       "       '{interpretation_base\": \"120\", \"translation_cn_to_en\": \"0.1\", \"translation_en_to_cn\": \"0.15\", \"interpretation_target\": \"250\"}\"',\n",
       "       '{interpretation_base\": \"50\", \"translation_cn_to_en\": \"0.3\", \"translation_en_to_cn\": \"0.3\", \"interpretation_target\": \"100\"}\"',\n",
       "       '{interpretation_base\": \"180\", \"translation_cn_to_en\": \"0.15\", \"translation_en_to_cn\": \"0.1\", \"interpretation_target\": \"200\"}\"',\n",
       "       '{interpretation_base\": \"40\", \"translation_cn_to_en\": \".5\", \"interpretation_target\": \"70\"}\"',\n",
       "       '{interpretation_base\": \"50\", \"translation_cn_to_en\": \"0.07\", \"translation_en_to_cn\": \"0.15\", \"interpretation_target\": \"100\"}\"',\n",
       "       '{interpretation_base\": \"35\", \"translation_en_to_cn\": \"0.06\", \"interpretation_target\": \"90\"}\"',\n",
       "       '{interpretation_base\": \"70\", \"translation_en_to_cn\": \"0.10\", \"interpretation_target\": \"100\"}\"',\n",
       "       '{interpretation_base\": \"150\", \"translation_cn_to_en\": \"0.10\", \"translation_en_to_cn\": \"0.10\", \"interpretation_target\": \"250\"}\"',\n",
       "       '{interpretation_base\": \"100\", \"translation_cn_to_en\": \"0.20\", \"translation_en_to_cn\": \"0.20\", \"interpretation_target\": \"150\"}\"',\n",
       "       '{interpretation_base\": \"80.00\", \"translation_cn_to_en\": \"0.00\", \"translation_en_to_cn\": \"0.00\", \"interpretation_target\": \"100.00\"}\"',\n",
       "       '{interpretation_base\": \"70\", \"translation_cn_to_en\": \"0.08\", \"translation_en_to_cn\": \"0.07\", \"interpretation_target\": \"180\"}\"',\n",
       "       '{interpretation_base\": \"100\", \"translation_cn_to_en\": \"0.10\", \"translation_en_to_cn\": \"0.10\", \"interpretation_target\": \"100\"}\"',\n",
       "       '{interpretation_base\": \"60\", \"translation_cn_to_en\": \"0.05\", \"translation_en_to_cn\": \"0.1\", \"interpretation_target\": \"120\"}\"',\n",
       "       '{interpretation_base\": \"50\", \"translation_cn_to_en\": \"0.03\", \"translation_en_to_cn\": \"0.03\", \"interpretation_target\": \"60\"}\"',\n",
       "       '{interpretation_base\": \"70\", \"translation_cn_to_en\": \"0.03\", \"translation_en_to_cn\": \"0.03\", \"interpretation_target\": \"150\"}\"',\n",
       "       '{interpretation_base\": \"60\", \"translation_cn_to_en\": \"0.15\", \"translation_en_to_cn\": \"0.15\", \"interpretation_target\": \"90\"}\"',\n",
       "       '{interpretation_base\": \"40\", \"translation_en_to_cn\": \"0.08\", \"interpretation_target\": \"50\"}\"',\n",
       "       '{interpretation_base\": \"100\", \"translation_cn_to_en\": \"0.11\", \"translation_en_to_cn\": \"0.11\", \"interpretation_target\": \"150\"}\"',\n",
       "       '{interpretation_base\": \"8\", \"translation_cn_to_en\": \"0.02\", \"translation_en_to_cn\": \"0.02\", \"interpretation_target\": \"11\"}\"',\n",
       "       '{interpretation_base\": \"150\", \"translation_cn_to_en\": \"0.06\", \"translation_en_to_cn\": \"0.08\", \"interpretation_target\": \"200\"}\"',\n",
       "       '{interpretation_base\": \"50\", \"translation_cn_to_en\": \"20\", \"translation_en_to_cn\": \"15\", \"interpretation_target\": \"70\"}\"',\n",
       "       '{interpretation_base\": \"55\", \"translation_cn_to_en\": \"0.08\", \"translation_en_to_cn\": \"0.07\", \"interpretation_target\": \"75\"}\"',\n",
       "       '{interpretation_base\": \"50\", \"translation_cn_to_en\": \"0.3\", \"translation_en_to_cn\": \"0.5\", \"interpretation_target\": \"200\"}\"',\n",
       "       '{interpretation_base\": \"100\", \"translation_cn_to_en\": \"0.04\", \"translation_en_to_cn\": \"0.05\", \"interpretation_target\": \"150\"}\"',\n",
       "       '{interpretation_base\": \"70\", \"translation_cn_to_en\": \"0.06\", \"translation_en_to_cn\": \"0.04\", \"interpretation_target\": \"80\"}\"',\n",
       "       '{interpretation_base\": \"70\", \"translation_en_to_cn\": \"0.09\", \"interpretation_target\": \"120\"}\"',\n",
       "       '{interpretation_base\": \"24\", \"translation_cn_to_en\": \"0.09\", \"translation_en_to_cn\": \"0.09\", \"interpretation_target\": \"35\"}\"',\n",
       "       '{interpretation_base\": \"100\", \"translation_cn_to_en\": \"0.05\", \"translation_en_to_cn\": \"0.05\", \"interpretation_target\": \"200\"}\"',\n",
       "       '{interpretation_base\": \"120\", \"translation_cn_to_en\": \"0.04\", \"translation_en_to_cn\": \"0.03\", \"interpretation_target\": \"150\"}\"',\n",
       "       '{interpretation_base\": \"100\", \"translation_cn_to_en\": \"50\", \"translation_en_to_cn\": \"50\", \"interpretation_target\": \"150\"}\"',\n",
       "       '{interpretation_base\": \"50\", \"translation_cn_to_en\": \"0.12\", \"translation_en_to_cn\": \"0.2\", \"interpretation_target\": \"100\"}\"',\n",
       "       '{interpretation_base\": \"75\", \"translation_cn_to_en\": \"0.08\", \"translation_en_to_cn\": \"0.05\", \"interpretation_target\": \"100\"}\"',\n",
       "       '{interpretation_base\": \"70\", \"translation_cn_to_en\": \"0.15\", \"translation_en_to_cn\": \"0.1\", \"interpretation_target\": \"130\"}\"',\n",
       "       '{interpretation_base\": \"150\", \"translation_en_to_cn\": \"0.15\", \"interpretation_target\": \"150\"}\"',\n",
       "       '{interpretation_base\": \"500\", \"translation_cn_to_en\": \"1\", \"translation_en_to_cn\": \"1\", \"interpretation_target\": \"500\"}\"',\n",
       "       '{interpretation_base\": \"150\", \"translation_cn_to_en\": \"0.13\", \"translation_en_to_cn\": \"0.13\", \"interpretation_target\": \"150\"}\"',\n",
       "       '{interpretation_base\": \"80\", \"interpretation_target\": \"110\"}\"',\n",
       "       '{interpretation_base\": \"100\", \"translation_cn_to_en\": \"30\", \"translation_en_to_cn\": \"50\", \"interpretation_target\": \"200\"}\"',\n",
       "       '{interpretation_base\": \"200\", \"translation_cn_to_en\": \"0.09\", \"translation_en_to_cn\": \"0.05\", \"interpretation_target\": \"400\"}\"',\n",
       "       '{interpretation_base\": \"75\", \"translation_cn_to_en\": \"0.10\", \"translation_en_to_cn\": \".10\", \"interpretation_target\": \"75\"}\"',\n",
       "       '{interpretation_base\": \"40\", \"translation_cn_to_en\": \"0.08\", \"translation_en_to_cn\": \"0.06\", \"interpretation_target\": \"50\"}\"',\n",
       "       '{interpretation_base\": \"120\", \"translation_cn_to_en\": \"0.1\", \"translation_en_to_cn\": \"0.1\", \"interpretation_target\": \"200\"}\"',\n",
       "       '{interpretation_base\": \"0\", \"translation_cn_to_en\": \"0.3\", \"translation_en_to_cn\": \"0.25\", \"interpretation_target\": \"0\"}\"',\n",
       "       '{interpretation_base\": \"40\", \"translation_cn_to_en\": \"25\", \"translation_en_to_cn\": \"20\", \"interpretation_target\": \"50\"}\"',\n",
       "       '{interpretation_base\": \"100\", \"translation_cn_to_en\": \"0\", \"translation_en_to_cn\": \"0\", \"interpretation_target\": \"180\"}\"',\n",
       "       '{interpretation_base\": \"140.00\", \"translation_cn_to_en\": \"0.16\", \"translation_en_to_cn\": \"0.15\", \"interpretation_target\": \"200.00\"}\"',\n",
       "       '{interpretation_base\": \"70\", \"translation_cn_to_en\": \"0.05\", \"translation_en_to_cn\": \"0.04\", \"interpretation_target\": \"90\"}\"',\n",
       "       '{interpretation_base\": \"400\", \"translation_cn_to_en\": \"80\", \"translation_en_to_cn\": \"60\", \"interpretation_target\": \"400\"}\"',\n",
       "       '{interpretation_base\": \"150\", \"translation_cn_to_en\": \"0.05\", \"translation_en_to_cn\": \"0.05\", \"interpretation_target\": \"200\"}\"',\n",
       "       '{interpretation_base\": \"225\", \"translation_cn_to_en\": \"225\", \"translation_en_to_cn\": \"225\", \"interpretation_target\": \"225\"}\"',\n",
       "       '{interpretation_base\": \"150\", \"translation_cn_to_en\": \"0.2\", \"translation_en_to_cn\": \"0.2\", \"interpretation_target\": \"200\"}\"',\n",
       "       '{interpretation_base\": \"22\", \"translation_cn_to_en\": \"0.06\", \"translation_en_to_cn\": \"0.1\", \"interpretation_target\": \"30\"}\"',\n",
       "       '{interpretation_base\": \"40\", \"translation_cn_to_en\": \"0.2\", \"translation_en_to_cn\": \"0.2\", \"interpretation_target\": \"60\"}\"',\n",
       "       '{interpretation_base\": \"35\", \"translation_cn_to_en\": \"0.1\", \"translation_en_to_cn\": \"0.1\", \"interpretation_target\": \"100\"}\"',\n",
       "       '{interpretation_base\": \"75\", \"translation_cn_to_en\": \"0\", \"translation_en_to_cn\": \"0\", \"interpretation_target\": \"150\"}\"',\n",
       "       '{interpretation_base\": \"100\", \"translation_cn_to_en\": \"0.08\", \"translation_en_to_cn\": \"0.1\", \"interpretation_target\": \"150\"}\"',\n",
       "       '{interpretation_base\": \"75\", \"translation_cn_to_en\": \"0.08\", \"translation_en_to_cn\": \"0.10\", \"interpretation_target\": \"125\"}\"',\n",
       "       '{interpretation_base\": \"90\", \"translation_cn_to_en\": \"0.08\", \"translation_en_to_cn\": \"0.07\", \"interpretation_target\": \"110\"}\"',\n",
       "       '{interpretation_base\": \"100.00\", \"translation_cn_to_en\": \"0.10\", \"translation_en_to_cn\": \"0.15\", \"interpretation_target\": \"200.00\"}\"',\n",
       "       '{interpretation_base\": \"60\", \"translation_cn_to_en\": \"0.08\", \"translation_en_to_cn\": \"0.12\", \"interpretation_target\": \"100\"}\"',\n",
       "       '{interpretation_base\": \"30\", \"translation_cn_to_en\": \".2\", \"translation_en_to_cn\": \".4\", \"interpretation_target\": \"100\"}\"',\n",
       "       '{interpretation_base\": \"150\", \"translation_cn_to_en\": \"0.08\", \"translation_en_to_cn\": \"0.15\", \"interpretation_target\": \"200\"}\"',\n",
       "       '{interpretation_base\": \"80\", \"translation_cn_to_en\": \"0.10\", \"translation_en_to_cn\": \"0.11\", \"interpretation_target\": \"100\"}\"',\n",
       "       '{interpretation_base\": \"100\", \"translation_cn_to_en\": \"0\", \"translation_en_to_cn\": \"0\", \"interpretation_target\": \"120\"}\"',\n",
       "       '{interpretation_base\": \"80\", \"translation_cn_to_en\": \"0.16\", \"translation_en_to_cn\": \"0.12\", \"interpretation_target\": \"120\"}\"',\n",
       "       '{interpretation_base\": \"30\", \"translation_cn_to_en\": \"5\", \"translation_en_to_cn\": \"2\", \"interpretation_target\": \"100\"}\"',\n",
       "       '{interpretation_base\": \"150\", \"translation_cn_to_en\": \"0.30\", \"translation_en_to_cn\": \"0.30\", \"interpretation_target\": \"300\"}\"',\n",
       "       '{interpretation_base\": \"60\", \"translation_cn_to_en\": \"0.07\", \"translation_en_to_cn\": \"0.06\", \"interpretation_target\": \"75\"}\"',\n",
       "       '{interpretation_base\": \"35\", \"translation_cn_to_en\": \"15\", \"translation_en_to_cn\": \"25\", \"interpretation_target\": \"50\"}\"',\n",
       "       '{interpretation_base\": \"150\", \"translation_cn_to_en\": \"0.15\", \"translation_en_to_cn\": \"0.15\", \"interpretation_target\": \"250\"}\"',\n",
       "       '{interpretation_base\": \"60\", \"translation_cn_to_en\": \"0.12\", \"translation_en_to_cn\": \"0.12\", \"interpretation_target\": \"80\"}\"',\n",
       "       '{interpretation_base\": \"100\", \"translation_cn_to_en\": \"0.15\", \"translation_en_to_cn\": \"0.2\", \"interpretation_target\": \"150\"}\"',\n",
       "       '{interpretation_base\": \"50\", \"translation_cn_to_en\": \"100\", \"translation_en_to_cn\": \"100\", \"interpretation_target\": \"100\"}\"',\n",
       "       '{interpretation_base\": \"180\", \"translation_cn_to_en\": \"0.07\", \"translation_en_to_cn\": \"0.14\", \"interpretation_target\": \"200\"}\"',\n",
       "       '{interpretation_base\": \"30\", \"translation_cn_to_en\": \"0.16\", \"translation_en_to_cn\": \"0.26\", \"interpretation_target\": \"40\"}\"',\n",
       "       '{interpretation_base\": \"40\", \"translation_cn_to_en\": \"0.06\", \"translation_en_to_cn\": \"0.06\", \"interpretation_target\": \"55\"}\"',\n",
       "       '{interpretation_base\": \"160\", \"translation_cn_to_en\": \"0.11\", \"translation_en_to_cn\": \"0.11\", \"interpretation_target\": \"200\"}\"',\n",
       "       '{interpretation_base\": \"40\", \"translation_cn_to_en\": \"0.08\", \"translation_en_to_cn\": \"0.07\", \"interpretation_target\": \"70\"}\"',\n",
       "       '{interpretation_base\": \"20\", \"translation_cn_to_en\": \"0\", \"translation_en_to_cn\": \"0\", \"interpretation_target\": \"20\"}\"',\n",
       "       '{interpretation_base\": \"100\", \"translation_cn_to_en\": \"0.15\", \"translation_en_to_cn\": \"0.18\", \"interpretation_target\": \"200\"}\"',\n",
       "       '{interpretation_base\": \"100\", \"translation_en_to_cn\": \"0.04\", \"interpretation_target\": \"120\"}\"',\n",
       "       '{interpretation_base\": \"96\", \"translation_cn_to_en\": \"0.08\", \"translation_en_to_cn\": \"0.08\", \"interpretation_target\": \"115\"}\"',\n",
       "       '{interpretation_base\": \"25.00\", \"translation_cn_to_en\": \"0.80\", \"translation_en_to_cn\": \"0.50\", \"interpretation_target\": \"35.00\"}\"',\n",
       "       '{interpretation_base\": \"100\", \"translation_cn_to_en\": \"60\", \"translation_en_to_cn\": \"60\", \"interpretation_target\": \"150\"}\"',\n",
       "       '{interpretation_base\": \"100\", \"translation_cn_to_en\": \"12\", \"translation_en_to_cn\": \"24\", \"interpretation_target\": \"150\"}\"',\n",
       "       '{interpretation_base\": \"85\", \"interpretation_target\": \"65\"}\"',\n",
       "       '{interpretation_base\": \"50.00\", \"interpretation_target\": \"50.00\"}\"',\n",
       "       '{interpretation_base\": \"80.00\", \"translation_cn_to_en\": \"0.14\", \"translation_en_to_cn\": \"0.16\", \"interpretation_target\": \"120.00\"}\"',\n",
       "       '{interpretation_base\": \"45\", \"translation_cn_to_en\": \"0.05\", \"translation_en_to_cn\": \"0.14\", \"interpretation_target\": \"60\"}\"',\n",
       "       '{interpretation_base\": \"150\", \"translation_cn_to_en\": \"0.12\", \"translation_en_to_cn\": \"0.18\", \"interpretation_target\": \"180\"}\"',\n",
       "       '{translation_cn_to_en\": \"0.2\", \"translation_en_to_cn\": \"0.1\"}\"',\n",
       "       '{interpretation_base\": \"200\", \"translation_cn_to_en\": \"0.25\", \"translation_en_to_cn\": \"0.4\", \"interpretation_target\": \"250\"}\"',\n",
       "       '{interpretation_base\": \"40\", \"translation_cn_to_en\": \"0.08\", \"translation_en_to_cn\": \"0.07\", \"interpretation_target\": \"75\"}\"',\n",
       "       '{interpretation_base\": \"80\", \"translation_cn_to_en\": \"0.02\", \"translation_en_to_cn\": \"0.02\", \"interpretation_target\": \"120\"}\"',\n",
       "       '{interpretation_base\": \"120\", \"translation_cn_to_en\": \"0.05\", \"translation_en_to_cn\": \"0.08\", \"interpretation_target\": \"150\"}\"',\n",
       "       '{interpretation_base\": \"30\", \"translation_cn_to_en\": \"0.015\", \"translation_en_to_cn\": \"0.02\", \"interpretation_target\": \"50\"}\"',\n",
       "       '{interpretation_base\": \"300\", \"interpretation_target\": \"325\"}\"',\n",
       "       '{interpretation_base\": \"40\", \"translation_cn_to_en\": \"60\", \"translation_en_to_cn\": \"80\", \"interpretation_target\": \"60\"}\"',\n",
       "       '{interpretation_base\": \"150\", \"translation_cn_to_en\": \"0.1\", \"translation_en_to_cn\": \"0.08\", \"interpretation_target\": \"170\"}\"',\n",
       "       '{interpretation_base\": \"80\", \"translation_cn_to_en\": \"0.15\", \"translation_en_to_cn\": \"0.09\", \"interpretation_target\": \"100\"}\"',\n",
       "       '{interpretation_base\": \"40.00\", \"translation_cn_to_en\": \"0.09\", \"translation_en_to_cn\": \"0.09\"}\"',\n",
       "       '{interpretation_base\": \"13\", \"translation_cn_to_en\": \"1\", \"translation_en_to_cn\": \"1\", \"interpretation_target\": \"15\"}\"',\n",
       "       '{interpretation_base\": \"65\", \"translation_cn_to_en\": \"0.12\", \"translation_en_to_cn\": \"0.10\", \"interpretation_target\": \"70\"}\"',\n",
       "       '{interpretation_base\": \"120\", \"translation_cn_to_en\": \"100\", \"translation_en_to_cn\": \"80\", \"interpretation_target\": \"200\"}\"',\n",
       "       '{interpretation_base\": \"80\", \"translation_cn_to_en\": \"0.06\", \"translation_en_to_cn\": \"0.12\", \"interpretation_target\": \"90\"}\"',\n",
       "       '{interpretation_base\": \"25\", \"translation_cn_to_en\": \"0.04\", \"translation_en_to_cn\": \"0.07\", \"interpretation_target\": \"40\"}\"',\n",
       "       '{interpretation_base\": \"40\", \"interpretation_target\": \"85\"}\"',\n",
       "       '{interpretation_base\": \"150\", \"translation_cn_to_en\": \"0.06\", \"translation_en_to_cn\": \"0.06\", \"interpretation_target\": \"260\"}\"',\n",
       "       '{interpretation_base\": \"150\", \"translation_cn_to_en\": \"0.1\", \"translation_en_to_cn\": \"0.1\", \"interpretation_target\": \"180\"}\"',\n",
       "       '{interpretation_base\": \"50\", \"translation_cn_to_en\": \"0.07\", \"translation_en_to_cn\": \"0.08\", \"interpretation_target\": \"60\"}\"',\n",
       "       '{interpretation_base\": \"125\", \"translation_cn_to_en\": \"0.12\", \"translation_en_to_cn\": \"0.12\", \"interpretation_target\": \"160\"}\"',\n",
       "       '{interpretation_base\": \"120\", \"translation_cn_to_en\": \"0.18\", \"translation_en_to_cn\": \"0.2\", \"interpretation_target\": \"150\"}\"',\n",
       "       '{interpretation_base\": \"50\", \"translation_cn_to_en\": \"0.03\", \"translation_en_to_cn\": \"0.04\", \"interpretation_target\": \"80\"}\"',\n",
       "       '{interpretation_base\": \"60.00\", \"translation_cn_to_en\": \".10\", \"translation_en_to_cn\": \".13\", \"interpretation_target\": \"80.00\"}\"',\n",
       "       '{interpretation_base\": \"300\", \"translation_cn_to_en\": \"0.05\", \"translation_en_to_cn\": \"0.06\", \"interpretation_target\": \"100\"}\"',\n",
       "       '{interpretation_base\": \"30.00\", \"translation_cn_to_en\": \"0.10\", \"translation_en_to_cn\": \"0.10\", \"interpretation_target\": \"35.00\"}\"',\n",
       "       '{interpretation_base\": \"180\", \"translation_cn_to_en\": \"0.05\", \"translation_en_to_cn\": \"0.02\", \"interpretation_target\": \"250\"}\"',\n",
       "       '{interpretation_base\": \"100\", \"translation_cn_to_en\": \"0.15\", \"translation_en_to_cn\": \"0.10\", \"interpretation_target\": \"150\"}\"',\n",
       "       '{interpretation_base\": \"50\", \"translation_cn_to_en\": \"70\", \"translation_en_to_cn\": \"70\", \"interpretation_target\": \"75\"}\"',\n",
       "       '{interpretation_base\": \"90\", \"translation_cn_to_en\": \"0.11\", \"translation_en_to_cn\": \"0.08\", \"interpretation_target\": \"150\"}\"',\n",
       "       '{interpretation_base\": \"38\", \"translation_cn_to_en\": \"0.08\", \"translation_en_to_cn\": \"0.2\", \"interpretation_target\": \"80\"}\"',\n",
       "       '{interpretation_base\": \"150.00\", \"interpretation_target\": \"150.00\"}\"',\n",
       "       '{interpretation_base\": \"40\", \"translation_cn_to_en\": \"50\", \"translation_en_to_cn\": \"50\", \"interpretation_target\": \"60\"}\"',\n",
       "       '{interpretation_base\": \"45\", \"translation_cn_to_en\": \".10\", \"translation_en_to_cn\": \".08\", \"interpretation_target\": \"60\"}\"',\n",
       "       '{translation_cn_to_en\": \"0.00\", \"translation_en_to_cn\": \"0.11\"}\"',\n",
       "       '{interpretation_base\": \"40\", \"translation_cn_to_en\": \"0.04\", \"translation_en_to_cn\": \"0.05\", \"interpretation_target\": \"60\"}\"',\n",
       "       '{interpretation_base\": \"150\", \"translation_cn_to_en\": \"0.15\", \"translation_en_to_cn\": \"0.2\", \"interpretation_target\": \"200\"}\"',\n",
       "       '{interpretation_base\": \"110\", \"translation_cn_to_en\": \"0.2\", \"translation_en_to_cn\": \"0.2\", \"interpretation_target\": \"150\"}\"',\n",
       "       '{interpretation_base\": \"40\", \"translation_cn_to_en\": \"0.1\", \"translation_en_to_cn\": \"0.1\", \"interpretation_target\": \"60\"}\"',\n",
       "       '{interpretation_base\": \"80.00\", \"translation_cn_to_en\": \"0.10\", \"translation_en_to_cn\": \"0.15\", \"interpretation_target\": \"90.00\"}\"',\n",
       "       '{interpretation_base\": \"100\", \"translation_cn_to_en\": \"80\", \"translation_en_to_cn\": \"60\", \"interpretation_target\": \"120\"}\"',\n",
       "       '{interpretation_base\": \"150\", \"translation_cn_to_en\": \"0.15\", \"translation_en_to_cn\": \"0.15\", \"interpretation_target\": \"200\"}\"',\n",
       "       '{interpretation_base\": \"150\", \"interpretation_target\": \"200\"}\"',\n",
       "       '{interpretation_base\": \"20\", \"translation_cn_to_en\": \"20\", \"translation_en_to_cn\": \"20\", \"interpretation_target\": \"20\"}\"',\n",
       "       '{interpretation_base\": \"40\", \"translation_cn_to_en\": \"0.4\", \"translation_en_to_cn\": \"0.2\", \"interpretation_target\": \"80\"}\"',\n",
       "       '{interpretation_base\": \"100\", \"translation_cn_to_en\": \"0.065\", \"translation_en_to_cn\": \"0.065\", \"interpretation_target\": \"130\"}\"',\n",
       "       '{interpretation_base\": \"6.6\", \"translation_cn_to_en\": \"0.066\", \"translation_en_to_cn\": \"0.066\", \"interpretation_target\": \"11.6\"}\"',\n",
       "       '{interpretation_base\": \"100\", \"translation_cn_to_en\": \"0.16\", \"translation_en_to_cn\": \"0.12\", \"interpretation_target\": \"200\"}\"',\n",
       "       '{interpretation_base\": \"25\", \"translation_cn_to_en\": \"0.030\", \"translation_en_to_cn\": \"0.045\", \"interpretation_target\": \"35\"}\"',\n",
       "       '{interpretation_base\": \"70\", \"translation_cn_to_en\": \"0.07\", \"translation_en_to_cn\": \"0.07\", \"interpretation_target\": \"84\"}\"',\n",
       "       '{interpretation_base\": \"70\", \"translation_cn_to_en\": \"0.2\", \"translation_en_to_cn\": \"0.15\", \"interpretation_target\": \"100\"}\"',\n",
       "       '{interpretation_base\": \"30\", \"translation_cn_to_en\": \"40\", \"translation_en_to_cn\": \"40\", \"interpretation_target\": \"50\"}\"',\n",
       "       '{interpretation_base\": \"120\", \"translation_cn_to_en\": \"0.25\", \"translation_en_to_cn\": \"0.25\", \"interpretation_target\": \"150\"}\"',\n",
       "       '{interpretation_base\": \"50\", \"translation_cn_to_en\": \"0.20\", \"translation_en_to_cn\": \"0.20\", \"interpretation_target\": \"200\"}\"',\n",
       "       '{interpretation_base\": \"13\", \"translation_cn_to_en\": \"2.5\", \"translation_en_to_cn\": \"0.065\", \"interpretation_target\": \"17\"}\"',\n",
       "       '{interpretation_base\": \"60\", \"translation_cn_to_en\": \"0.30\", \"translation_en_to_cn\": \"0.15\", \"interpretation_target\": \"90\"}\"',\n",
       "       '{interpretation_base\": \"158\", \"translation_cn_to_en\": \"0.15\", \"translation_en_to_cn\": \"0.15\", \"interpretation_target\": \"199\"}\"',\n",
       "       '{interpretation_base\": \"35\", \"interpretation_target\": \"50\"}\"',\n",
       "       '{interpretation_base\": \"20\", \"translation_cn_to_en\": \"0.15\", \"translation_en_to_cn\": \"0.15\", \"interpretation_target\": \"30\"}\"',\n",
       "       '{interpretation_base\": \"30\", \"translation_cn_to_en\": \"0.05\", \"translation_en_to_cn\": \"0.05\", \"interpretation_target\": \"50\"}\"',\n",
       "       '{interpretation_base\": \"50\", \"interpretation_target\": \"200\"}\"',\n",
       "       '{interpretation_base\": \"100\", \"translation_cn_to_en\": \"0.2\", \"translation_en_to_cn\": \"0.15\", \"interpretation_target\": \"150\"}\"',\n",
       "       '{interpretation_base\": \"130\", \"translation_cn_to_en\": \"0.5\", \"translation_en_to_cn\": \"0.5\", \"interpretation_target\": \"200\"}\"',\n",
       "       '{interpretation_base\": \"500\", \"translation_cn_to_en\": \"0.08\", \"translation_en_to_cn\": \"0.20\", \"interpretation_target\": \"130\"}\"',\n",
       "       '{interpretation_base\": \"160\", \"translation_cn_to_en\": \"0.15\", \"translation_en_to_cn\": \"0.18\", \"interpretation_target\": \"200\"}\"',\n",
       "       '{interpretation_base\": \"50\", \"translation_cn_to_en\": \"0.13\", \"translation_en_to_cn\": \"0.13\", \"interpretation_target\": \"60\"}\"',\n",
       "       '{interpretation_base\": \"40\", \"translation_cn_to_en\": \"0\", \"translation_en_to_cn\": \"0\", \"interpretation_target\": \"45\"}\"',\n",
       "       '{interpretation_base\": \"55\", \"translation_cn_to_en\": \"55\", \"translation_en_to_cn\": \"65\", \"interpretation_target\": \"65\"}\"',\n",
       "       '{interpretation_base\": \"120\", \"translation_cn_to_en\": \"0.08\", \"translation_en_to_cn\": \"0.15\", \"interpretation_target\": \"150\"}\"',\n",
       "       '{interpretation_base\": \"122\", \"translation_cn_to_en\": \"23\", \"translation_en_to_cn\": \"12\", \"interpretation_target\": \"123\"}\"',\n",
       "       '{interpretation_base\": \"100\", \"translation_cn_to_en\": \".12\", \"translation_en_to_cn\": \".16\", \"interpretation_target\": \"200\"}\"',\n",
       "       '{interpretation_base\": \"175\", \"translation_cn_to_en\": \"0.1\", \"translation_en_to_cn\": \"0.15\", \"interpretation_target\": \"200\"}\"',\n",
       "       '{interpretation_base\": \"40\", \"translation_cn_to_en\": \"0.04\", \"translation_en_to_cn\": \"0.04\", \"interpretation_target\": \"100\"}\"',\n",
       "       '{interpretation_base\": \"30\", \"translation_cn_to_en\": \"60\", \"translation_en_to_cn\": \"60\", \"interpretation_target\": \"40\"}\"',\n",
       "       '{interpretation_base\": \"80\", \"translation_cn_to_en\": \"0.17\", \"translation_en_to_cn\": \"0.17\", \"interpretation_target\": \"120\"}\"',\n",
       "       '{interpretation_base\": \"100\", \"translation_cn_to_en\": \"0.04\", \"translation_en_to_cn\": \"0.05\", \"interpretation_target\": \"120\"}\"',\n",
       "       '{interpretation_base\": \"50\", \"translation_cn_to_en\": \"0\", \"translation_en_to_cn\": \"0\", \"interpretation_target\": \"50\"}\"',\n",
       "       '{interpretation_base\": \"150\", \"translation_cn_to_en\": \"100\", \"translation_en_to_cn\": \"100\", \"interpretation_target\": \"250\"}\"',\n",
       "       '{interpretation_base\": \"120\", \"translation_cn_to_en\": \"0\", \"translation_en_to_cn\": \"0\", \"interpretation_target\": \"150\"}\"',\n",
       "       '{interpretation_base\": \"105\", \"translation_cn_to_en\": \"0.08\", \"translation_en_to_cn\": \"0.08\", \"interpretation_target\": \"140\"}\"',\n",
       "       '{interpretation_base\": \"192.85\", \"translation_cn_to_en\": \".75\", \"translation_en_to_cn\": \".50\", \"interpretation_target\": \"192.85\"}\"',\n",
       "       '{interpretation_base\": \"30\", \"translation_cn_to_en\": \"0.20\", \"translation_en_to_cn\": \"0.15\", \"interpretation_target\": \"50\"}\"',\n",
       "       '{interpretation_base\": \"100\", \"translation_cn_to_en\": \"100\", \"translation_en_to_cn\": \"100\", \"interpretation_target\": \"130\"}\"',\n",
       "       '{interpretation_base\": \"100\", \"translation_cn_to_en\": \"000\", \"translation_en_to_cn\": \"000\", \"interpretation_target\": \"120\"}\"',\n",
       "       '{translation_cn_to_en\": \"0.06\", \"translation_en_to_cn\": \"1\"}\"',\n",
       "       '{interpretation_base\": \"20\", \"translation_cn_to_en\": \"0.12\", \"translation_en_to_cn\": \"0.08\", \"interpretation_target\": \"30\"}\"',\n",
       "       '{interpretation_base\": \"50\", \"translation_cn_to_en\": \"2\", \"translation_en_to_cn\": \"2\", \"interpretation_target\": \"500\"}\"',\n",
       "       '{interpretation_base\": \"5\", \"translation_cn_to_en\": \"0.017\", \"translation_en_to_cn\": \"0.015\", \"interpretation_target\": \"20\"}\"',\n",
       "       '{interpretation_base\": \"90\", \"translation_en_to_cn\": \"0.12\", \"interpretation_target\": \"100\"}\"',\n",
       "       '{interpretation_base\": \"50\", \"translation_cn_to_en\": \"0.003\", \"translation_en_to_cn\": \"0.005\", \"interpretation_target\": \"50\"}\"',\n",
       "       '{interpretation_base\": \"100\", \"interpretation_target\": \"120\"}\"',\n",
       "       '{interpretation_base\": \"50\", \"translation_cn_to_en\": \"60\", \"translation_en_to_cn\": \"60\", \"interpretation_target\": \"50\"}\"',\n",
       "       '{interpretation_base\": \"45\", \"translation_cn_to_en\": \"30\", \"translation_en_to_cn\": \"30\", \"interpretation_target\": \"70\"}\"',\n",
       "       '{interpretation_base\": \"200\", \"translation_cn_to_en\": \"0.1\", \"translation_en_to_cn\": \"0.2\", \"interpretation_target\": \"300\"}\"',\n",
       "       '{interpretation_base\": \"65\", \"translation_cn_to_en\": \"0.15\", \"translation_en_to_cn\": \"0.15\", \"interpretation_target\": \"80\"}\"',\n",
       "       '{interpretation_base\": \"100\", \"translation_cn_to_en\": \"0.10\", \"translation_en_to_cn\": \"0.15\", \"interpretation_target\": \"200\"}\"',\n",
       "       '{interpretation_base\": \"30\", \"translation_cn_to_en\": \"0.12\", \"translation_en_to_cn\": \"0.9\", \"interpretation_target\": \"50\"}\"',\n",
       "       '{interpretation_base\": \"60\", \"translation_cn_to_en\": \"60\", \"translation_en_to_cn\": \"45\", \"interpretation_target\": \"100\"}\"',\n",
       "       '{interpretation_base\": \"80\", \"translation_cn_to_en\": \"0.08\", \"translation_en_to_cn\": \"0.08\", \"interpretation_target\": \"100\"}\"',\n",
       "       '{interpretation_base\": \"180\", \"translation_cn_to_en\": \"0.1\", \"translation_en_to_cn\": \"0.1\", \"interpretation_target\": \"250\"}\"',\n",
       "       '{interpretation_base\": \"120\", \"translation_cn_to_en\": \"0.05\", \"translation_en_to_cn\": \"0.05\", \"interpretation_target\": \"160\"}\"',\n",
       "       '{interpretation_base\": \"60\", \"translation_cn_to_en\": \"1.5\", \"translation_en_to_cn\": \"1\", \"interpretation_target\": \"120\"}\"',\n",
       "       '{interpretation_base\": \"50\", \"translation_cn_to_en\": \"0.1\", \"translation_en_to_cn\": \"0.12\", \"interpretation_target\": \"100\"}\"',\n",
       "       '{interpretation_base\": \"10\", \"translation_cn_to_en\": \"0.5\", \"translation_en_to_cn\": \"1\", \"interpretation_target\": \"15\"}\"',\n",
       "       '{interpretation_base\": \"65\", \"translation_en_to_cn\": \"0.09\", \"interpretation_target\": \"100\"}\"',\n",
       "       '{interpretation_base\": \"60\", \"interpretation_target\": \"75\"}\"',\n",
       "       '{interpretation_base\": \"200\", \"translation_cn_to_en\": \"0.08\", \"translation_en_to_cn\": \"0.05\", \"interpretation_target\": \"900\"}\"',\n",
       "       '{interpretation_base\": \"30\", \"translation_cn_to_en\": \"15\", \"translation_en_to_cn\": \"20\", \"interpretation_target\": \"40\"}\"',\n",
       "       '{interpretation_base\": \"100\", \"translation_cn_to_en\": \"0.1\", \"translation_en_to_cn\": \"0.1\", \"interpretation_target\": \"100\"}\"',\n",
       "       '{interpretation_base\": \"50\", \"translation_cn_to_en\": \"0.15\", \"translation_en_to_cn\": \"0.15\", \"interpretation_target\": \"60\"}\"',\n",
       "       '{interpretation_base\": \"16\", \"translation_cn_to_en\": \"16\", \"translation_en_to_cn\": \"16\", \"interpretation_target\": \"16\"}\"',\n",
       "       '{interpretation_base\": \"80\", \"translation_cn_to_en\": \"0.40\", \"translation_en_to_cn\": \"0.30\", \"interpretation_target\": \"100\"}\"',\n",
       "       '{interpretation_base\": \"600\", \"translation_cn_to_en\": \"0.04\", \"translation_en_to_cn\": \"0.04\", \"interpretation_target\": \"614\"}\"',\n",
       "       '{interpretation_base\": \"20\", \"translation_cn_to_en\": \"0.1\", \"translation_en_to_cn\": \"0.1\", \"interpretation_target\": \"40\"}\"',\n",
       "       '{interpretation_base\": \"15\", \"translation_cn_to_en\": \"0.01\", \"translation_en_to_cn\": \"0.008\", \"interpretation_target\": \"30\"}\"',\n",
       "       '{interpretation_base\": \"60\", \"interpretation_target\": \"90\"}\"',\n",
       "       '{interpretation_base\": \"5\", \"translation_cn_to_en\": \"0.10\", \"translation_en_to_cn\": \"0.10\", \"interpretation_target\": \"5\"}\"',\n",
       "       '{interpretation_base\": \"50\", \"translation_cn_to_en\": \"50\", \"translation_en_to_cn\": \"60\", \"interpretation_target\": \"90\"}\"',\n",
       "       '{interpretation_base\": \"40\", \"translation_cn_to_en\": \"0.15\", \"translation_en_to_cn\": \"0.15\", \"interpretation_target\": \"55\"}\"',\n",
       "       '{interpretation_base\": \"25\", \"translation_cn_to_en\": \"30\", \"translation_en_to_cn\": \"25\", \"interpretation_target\": \"35\"}\"',\n",
       "       '{interpretation_base\": \"150\", \"translation_cn_to_en\": \"0.05\", \"translation_en_to_cn\": \"0.06\", \"interpretation_target\": \"200\"}\"',\n",
       "       '{interpretation_base\": \"40\", \"translation_cn_to_en\": \"0.06\", \"translation_en_to_cn\": \"0.055\", \"interpretation_target\": \"90\"}\"',\n",
       "       '{interpretation_base\": \"250\", \"translation_cn_to_en\": \"0.15\", \"translation_en_to_cn\": \"0.15\", \"interpretation_target\": \"300\"}\"',\n",
       "       '{interpretation_base\": \"20\", \"translation_cn_to_en\": \"30\", \"translation_en_to_cn\": \"30\", \"interpretation_target\": \"30\"}\"',\n",
       "       '{interpretation_base\": \"75\", \"translation_cn_to_en\": \"75\", \"translation_en_to_cn\": \"50\", \"interpretation_target\": \"50\"}\"',\n",
       "       '{interpretation_base\": \"250\", \"translation_cn_to_en\": \"1.5\", \"translation_en_to_cn\": \"2.5\", \"interpretation_target\": \"400\"}\"',\n",
       "       '{interpretation_base\": \"90\", \"translation_cn_to_en\": \".15\", \"translation_en_to_cn\": \".15\", \"interpretation_target\": \"100\"}\"',\n",
       "       '{interpretation_base\": \"50\", \"translation_cn_to_en\": \".15\", \"translation_en_to_cn\": \".20\", \"interpretation_target\": \"80\"}\"',\n",
       "       '{interpretation_base\": \"35\", \"translation_cn_to_en\": \"0.1\", \"translation_en_to_cn\": \"0.08\", \"interpretation_target\": \"50\"}\"',\n",
       "       '{interpretation_base\": \"30\", \"translation_cn_to_en\": \"100\", \"translation_en_to_cn\": \"100\", \"interpretation_target\": \"100\"}\"',\n",
       "       '{interpretation_base\": \"100\", \"translation_cn_to_en\": \"200\", \"translation_en_to_cn\": \"200\", \"interpretation_target\": \"100\"}\"',\n",
       "       '{interpretation_base\": \"75\", \"translation_cn_to_en\": \".25\", \"translation_en_to_cn\": \".20\", \"interpretation_target\": \"100\"}\"',\n",
       "       '{interpretation_base\": \"45\", \"translation_cn_to_en\": \"0.03\", \"translation_en_to_cn\": \"0.06\", \"interpretation_target\": \"80\"}\"',\n",
       "       '{interpretation_base\": \"25\", \"translation_cn_to_en\": \"40\", \"translation_en_to_cn\": \"55\", \"interpretation_target\": \"35\"}\"',\n",
       "       '{interpretation_base\": \"60\", \"translation_cn_to_en\": \"0.5\", \"translation_en_to_cn\": \"0.4\", \"interpretation_target\": \"100\"}\"',\n",
       "       '{translation_cn_to_en\": \"0.16\", \"translation_en_to_cn\": \"0.16\", \"interpretation_target\": \"100\"}\"',\n",
       "       '{interpretation_base\": \"60\", \"translation_cn_to_en\": \".15\", \"translation_en_to_cn\": \".15\", \"interpretation_target\": \"75\"}\"',\n",
       "       '{interpretation_base\": \"200\", \"translation_cn_to_en\": \"250\", \"translation_en_to_cn\": \"200\", \"interpretation_target\": \"250\"}\"'], dtype=object)"
      ]
     },
     "execution_count": 49,
     "metadata": {},
     "output_type": "execute_result"
    }
   ],
   "source": [
    "df_pandas['prices'].unique()"
   ]
  },
  {
   "cell_type": "code",
   "execution_count": 50,
   "metadata": {
    "collapsed": false
   },
   "outputs": [
    {
     "data": {
      "text/plain": [
       "str"
      ]
     },
     "execution_count": 50,
     "metadata": {},
     "output_type": "execute_result"
    }
   ],
   "source": [
    "type(df_pandas['prices'][3])"
   ]
  },
  {
   "cell_type": "code",
   "execution_count": 52,
   "metadata": {
    "collapsed": true
   },
   "outputs": [],
   "source": [
    "t = df_pandas['prices'][0]"
   ]
  },
  {
   "cell_type": "code",
   "execution_count": 53,
   "metadata": {
    "collapsed": false
   },
   "outputs": [
    {
     "data": {
      "text/plain": [
       "'{interpretation_base\": \"111\", \"translation_cn_to_en\": \"111\", \"translation_en_to_cn\": \"111\", \"interpretation_target\": \"111\"}\"'"
      ]
     },
     "execution_count": 53,
     "metadata": {},
     "output_type": "execute_result"
    }
   ],
   "source": [
    "t"
   ]
  },
  {
   "cell_type": "code",
   "execution_count": 60,
   "metadata": {
    "collapsed": false
   },
   "outputs": [
    {
     "data": {
      "text/plain": [
       "str"
      ]
     },
     "execution_count": 60,
     "metadata": {},
     "output_type": "execute_result"
    }
   ],
   "source": [
    "type(t[:-1])"
   ]
  },
  {
   "cell_type": "code",
   "execution_count": 66,
   "metadata": {
    "collapsed": false
   },
   "outputs": [
    {
     "data": {
      "text/plain": [
       "{u'interpretation_base': u'111',\n",
       " u'interpretation_target': u'111',\n",
       " u'translation_cn_to_en': u'111',\n",
       " u'translation_en_to_cn': u'111'}"
      ]
     },
     "execution_count": 66,
     "metadata": {},
     "output_type": "execute_result"
    }
   ],
   "source": [
    "json.loads('{\"'+t[1:-1])"
   ]
  },
  {
   "cell_type": "code",
   "execution_count": 72,
   "metadata": {
    "collapsed": false
   },
   "outputs": [],
   "source": [
    "start = '{\"'"
   ]
  },
  {
   "cell_type": "code",
   "execution_count": 75,
   "metadata": {
    "collapsed": false
   },
   "outputs": [
    {
     "data": {
      "text/plain": [
       "0    {interpretation_base\": \"111\", \"translation_cn_...\n",
       "1    {interpretation_base\": \"13\", \"translation_cn_t...\n",
       "2                                                   {}\n",
       "3                                                   {}\n",
       "Name: prices, dtype: object"
      ]
     },
     "execution_count": 75,
     "metadata": {},
     "output_type": "execute_result"
    }
   ],
   "source": [
    "df_pandas['prices'][:4]"
   ]
  },
  {
   "cell_type": "code",
   "execution_count": 76,
   "metadata": {
    "collapsed": true
   },
   "outputs": [],
   "source": [
    "empty='{}'"
   ]
  },
  {
   "cell_type": "code",
   "execution_count": 78,
   "metadata": {
    "collapsed": false
   },
   "outputs": [],
   "source": [
    "df_pandas=df_pandas[df_pandas['prices']!=empty]"
   ]
  },
  {
   "cell_type": "code",
   "execution_count": 79,
   "metadata": {
    "collapsed": false,
    "scrolled": true
   },
   "outputs": [],
   "source": [
    "df_pandas['prices']=df_pandas['prices'].apply(lambda x: json.loads(start+x[1:-1]))"
   ]
  },
  {
   "cell_type": "code",
   "execution_count": 80,
   "metadata": {
    "collapsed": false
   },
   "outputs": [
    {
     "name": "stdout",
     "output_type": "stream",
     "text": [
      "<class 'pandas.core.frame.DataFrame'>\n",
      "Int64Index: 255 entries, 0 to 346\n",
      "Data columns (total 8 columns):\n",
      "id              255 non-null int64\n",
      "inserted_at     255 non-null object\n",
      "name            255 non-null object\n",
      "basecity        254 non-null object\n",
      "prices          255 non-null object\n",
      "target_price    0 non-null float64\n",
      "specialties     255 non-null object\n",
      "capabilities    255 non-null object\n",
      "dtypes: float64(1), int64(1), object(6)\n",
      "memory usage: 17.9+ KB\n"
     ]
    }
   ],
   "source": [
    "df_pandas.info()"
   ]
  },
  {
   "cell_type": "code",
   "execution_count": 82,
   "metadata": {
    "collapsed": false
   },
   "outputs": [
    {
     "data": {
      "text/plain": [
       "[u'interpretation_base',\n",
       " u'interpretation_target',\n",
       " u'translation_cn_to_en',\n",
       " u'translation_en_to_cn']"
      ]
     },
     "execution_count": 82,
     "metadata": {},
     "output_type": "execute_result"
    }
   ],
   "source": [
    "df_pandas['prices'][0].keys()"
   ]
  },
  {
   "cell_type": "code",
   "execution_count": 99,
   "metadata": {
    "collapsed": true
   },
   "outputs": [],
   "source": [
    "target = 'interpretation_target'"
   ]
  },
  {
   "cell_type": "code",
   "execution_count": 102,
   "metadata": {
    "collapsed": false
   },
   "outputs": [],
   "source": [
    "df_pandas['target_price']= df_pandas['prices'].apply(lambda x: float(x[target]) if target in x.keys() else 999999)"
   ]
  },
  {
   "cell_type": "code",
   "execution_count": 103,
   "metadata": {
    "collapsed": false
   },
   "outputs": [
    {
     "data": {
      "text/html": [
       "<div>\n",
       "<table border=\"1\" class=\"dataframe\">\n",
       "  <thead>\n",
       "    <tr style=\"text-align: right;\">\n",
       "      <th></th>\n",
       "      <th>id</th>\n",
       "      <th>inserted_at</th>\n",
       "      <th>name</th>\n",
       "      <th>basecity</th>\n",
       "      <th>prices</th>\n",
       "      <th>target_price</th>\n",
       "      <th>specialties</th>\n",
       "      <th>capabilities</th>\n",
       "    </tr>\n",
       "  </thead>\n",
       "  <tbody>\n",
       "    <tr>\n",
       "      <th>0</th>\n",
       "      <td>1</td>\n",
       "      <td>11/2/2015 5:39:06</td>\n",
       "      <td>test</td>\n",
       "      <td>test</td>\n",
       "      <td>{u'interpretation_base': u'111', u'interpretat...</td>\n",
       "      <td>111</td>\n",
       "      <td>{accounting,advertising}</td>\n",
       "      <td>{architecture}</td>\n",
       "    </tr>\n",
       "    <tr>\n",
       "      <th>1</th>\n",
       "      <td>2</td>\n",
       "      <td>11/2/2015 15:46:11</td>\n",
       "      <td>David</td>\n",
       "      <td>Taipei</td>\n",
       "      <td>{u'interpretation_base': u'13', u'interpretati...</td>\n",
       "      <td>12</td>\n",
       "      <td>{computers_and_computing,it_software_programmi...</td>\n",
       "      <td>{technology,toxicology,photography,music,it,hu...</td>\n",
       "    </tr>\n",
       "  </tbody>\n",
       "</table>\n",
       "</div>"
      ],
      "text/plain": [
       "   id         inserted_at   name basecity  \\\n",
       "0   1   11/2/2015 5:39:06   test     test   \n",
       "1   2  11/2/2015 15:46:11  David   Taipei   \n",
       "\n",
       "                                              prices  target_price  \\\n",
       "0  {u'interpretation_base': u'111', u'interpretat...           111   \n",
       "1  {u'interpretation_base': u'13', u'interpretati...            12   \n",
       "\n",
       "                                         specialties  \\\n",
       "0                           {accounting,advertising}   \n",
       "1  {computers_and_computing,it_software_programmi...   \n",
       "\n",
       "                                        capabilities  \n",
       "0                                     {architecture}  \n",
       "1  {technology,toxicology,photography,music,it,hu...  "
      ]
     },
     "execution_count": 103,
     "metadata": {},
     "output_type": "execute_result"
    }
   ],
   "source": [
    "df_pandas.head(2)"
   ]
  },
  {
   "cell_type": "code",
   "execution_count": null,
   "metadata": {
    "collapsed": true
   },
   "outputs": [],
   "source": []
  }
 ],
 "metadata": {
  "kernelspec": {
   "display_name": "Python 2",
   "language": "python",
   "name": "python2"
  },
  "language_info": {
   "codemirror_mode": {
    "name": "ipython",
    "version": 2
   },
   "file_extension": ".py",
   "mimetype": "text/x-python",
   "name": "python",
   "nbconvert_exporter": "python",
   "pygments_lexer": "ipython2",
   "version": "2.7.11"
  }
 },
 "nbformat": 4,
 "nbformat_minor": 0
}
