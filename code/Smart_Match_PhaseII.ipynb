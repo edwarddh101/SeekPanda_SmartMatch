{
 "cells": [
  {
   "cell_type": "markdown",
   "metadata": {},
   "source": [
    "Goal:\n",
    "\n",
    "1. Identify jobs having service_type = interpreting (in-person)\n",
    "\n",
    "2. Introduce a temporary variable called match_percentage\n",
    "\n",
    "3. For each job, calculate match_percentage (detail below) for all pandas\n",
    "\n",
    "4. Return a sorted array (in descending order of match percentage) of the name and\n",
    "\n",
    "5. target_price fields of the top matching pandas"
   ]
  },
  {
   "cell_type": "code",
   "execution_count": 27,
   "metadata": {
    "collapsed": true
   },
   "outputs": [],
   "source": [
    "import pandas as pd"
   ]
  },
  {
   "cell_type": "code",
   "execution_count": 28,
   "metadata": {
    "collapsed": true
   },
   "outputs": [],
   "source": [
    "df_jobs = pd.read_csv('../result/extracted_jobs.csv', index_col=0)"
   ]
  },
  {
   "cell_type": "code",
   "execution_count": 29,
   "metadata": {
    "collapsed": false
   },
   "outputs": [
    {
     "data": {
      "text/html": [
       "<div>\n",
       "<table border=\"1\" class=\"dataframe\">\n",
       "  <thead>\n",
       "    <tr style=\"text-align: right;\">\n",
       "      <th></th>\n",
       "      <th>id</th>\n",
       "      <th>requester_id</th>\n",
       "      <th>inserted_at</th>\n",
       "      <th>job_details</th>\n",
       "      <th>industry</th>\n",
       "      <th>service_type</th>\n",
       "      <th>industry_depth</th>\n",
       "      <th>location</th>\n",
       "      <th>prep_file_URL</th>\n",
       "      <th>deadline</th>\n",
       "    </tr>\n",
       "  </thead>\n",
       "  <tbody>\n",
       "    <tr>\n",
       "      <th>0</th>\n",
       "      <td>1</td>\n",
       "      <td>22</td>\n",
       "      <td>2015-11-05 14:51:43</td>\n",
       "      <td>{u'list_9048040_choice': u'In the next 24 hour...</td>\n",
       "      <td>Agriculture</td>\n",
       "      <td>interpreting (in-person)</td>\n",
       "      <td>Critical. Being able to understand terminology...</td>\n",
       "      <td>Ningbo</td>\n",
       "      <td>NaN</td>\n",
       "      <td>2015-11-06 14:51:43</td>\n",
       "    </tr>\n",
       "    <tr>\n",
       "      <th>1</th>\n",
       "      <td>2</td>\n",
       "      <td>22</td>\n",
       "      <td>2015-11-07 03:46:38</td>\n",
       "      <td>{u'list_9048040_choice': u'In the next 24 hour...</td>\n",
       "      <td>Archaeology</td>\n",
       "      <td>interpreting (in-person)</td>\n",
       "      <td>A low priority. This only requires everyday fa...</td>\n",
       "      <td>Shanghai</td>\n",
       "      <td>NaN</td>\n",
       "      <td>2015-11-08 03:46:38</td>\n",
       "    </tr>\n",
       "  </tbody>\n",
       "</table>\n",
       "</div>"
      ],
      "text/plain": [
       "   id  requester_id          inserted_at  \\\n",
       "0   1            22  2015-11-05 14:51:43   \n",
       "1   2            22  2015-11-07 03:46:38   \n",
       "\n",
       "                                         job_details     industry  \\\n",
       "0  {u'list_9048040_choice': u'In the next 24 hour...  Agriculture   \n",
       "1  {u'list_9048040_choice': u'In the next 24 hour...  Archaeology   \n",
       "\n",
       "               service_type  \\\n",
       "0  interpreting (in-person)   \n",
       "1  interpreting (in-person)   \n",
       "\n",
       "                                      industry_depth  location prep_file_URL  \\\n",
       "0  Critical. Being able to understand terminology...    Ningbo           NaN   \n",
       "1  A low priority. This only requires everyday fa...  Shanghai           NaN   \n",
       "\n",
       "              deadline  \n",
       "0  2015-11-06 14:51:43  \n",
       "1  2015-11-08 03:46:38  "
      ]
     },
     "execution_count": 29,
     "metadata": {},
     "output_type": "execute_result"
    }
   ],
   "source": [
    "df_jobs.head(2)"
   ]
  },
  {
   "cell_type": "code",
   "execution_count": 30,
   "metadata": {
    "collapsed": false
   },
   "outputs": [
    {
     "data": {
      "text/plain": [
       "array(['interpreting (in-person)', 'event hosting',\n",
       "       'interpreting (on the phone)', 'translation'], dtype=object)"
      ]
     },
     "execution_count": 30,
     "metadata": {},
     "output_type": "execute_result"
    }
   ],
   "source": [
    "df_jobs['service_type'].unique()"
   ]
  },
  {
   "cell_type": "code",
   "execution_count": 31,
   "metadata": {
    "collapsed": true
   },
   "outputs": [],
   "source": [
    "target_service = 'interpreting (in-person)'"
   ]
  },
  {
   "cell_type": "code",
   "execution_count": 32,
   "metadata": {
    "collapsed": true
   },
   "outputs": [],
   "source": [
    "df_jobs['match_percentage'] = df_jobs['service_type']==target_service"
   ]
  },
  {
   "cell_type": "code",
   "execution_count": 33,
   "metadata": {
    "collapsed": false
   },
   "outputs": [
    {
     "data": {
      "text/html": [
       "<div>\n",
       "<table border=\"1\" class=\"dataframe\">\n",
       "  <thead>\n",
       "    <tr style=\"text-align: right;\">\n",
       "      <th></th>\n",
       "      <th>id</th>\n",
       "      <th>requester_id</th>\n",
       "      <th>inserted_at</th>\n",
       "      <th>job_details</th>\n",
       "      <th>industry</th>\n",
       "      <th>service_type</th>\n",
       "      <th>industry_depth</th>\n",
       "      <th>location</th>\n",
       "      <th>prep_file_URL</th>\n",
       "      <th>deadline</th>\n",
       "      <th>match_percentage</th>\n",
       "    </tr>\n",
       "  </thead>\n",
       "  <tbody>\n",
       "    <tr>\n",
       "      <th>0</th>\n",
       "      <td>1</td>\n",
       "      <td>22</td>\n",
       "      <td>2015-11-05 14:51:43</td>\n",
       "      <td>{u'list_9048040_choice': u'In the next 24 hour...</td>\n",
       "      <td>Agriculture</td>\n",
       "      <td>interpreting (in-person)</td>\n",
       "      <td>Critical. Being able to understand terminology...</td>\n",
       "      <td>Ningbo</td>\n",
       "      <td>NaN</td>\n",
       "      <td>2015-11-06 14:51:43</td>\n",
       "      <td>True</td>\n",
       "    </tr>\n",
       "    <tr>\n",
       "      <th>1</th>\n",
       "      <td>2</td>\n",
       "      <td>22</td>\n",
       "      <td>2015-11-07 03:46:38</td>\n",
       "      <td>{u'list_9048040_choice': u'In the next 24 hour...</td>\n",
       "      <td>Archaeology</td>\n",
       "      <td>interpreting (in-person)</td>\n",
       "      <td>A low priority. This only requires everyday fa...</td>\n",
       "      <td>Shanghai</td>\n",
       "      <td>NaN</td>\n",
       "      <td>2015-11-08 03:46:38</td>\n",
       "      <td>True</td>\n",
       "    </tr>\n",
       "    <tr>\n",
       "      <th>2</th>\n",
       "      <td>3</td>\n",
       "      <td>38</td>\n",
       "      <td>2015-11-10 02:57:34</td>\n",
       "      <td>{u'list_9048040_choice': u'In the next 24 hour...</td>\n",
       "      <td>Advertising</td>\n",
       "      <td>event hosting</td>\n",
       "      <td>Critical. Being able to understand terminology...</td>\n",
       "      <td>Hong Kong</td>\n",
       "      <td>NaN</td>\n",
       "      <td>2015-11-11 02:57:34</td>\n",
       "      <td>False</td>\n",
       "    </tr>\n",
       "    <tr>\n",
       "      <th>3</th>\n",
       "      <td>4</td>\n",
       "      <td>53</td>\n",
       "      <td>2015-11-12 10:51:31</td>\n",
       "      <td>{u'list_9048040_choice': u'In the next week', ...</td>\n",
       "      <td>Medical devices</td>\n",
       "      <td>interpreting (on the phone)</td>\n",
       "      <td>Important. I'm willing to tolerate some amount...</td>\n",
       "      <td>NaN</td>\n",
       "      <td>NaN</td>\n",
       "      <td>2015-11-19 10:51:31</td>\n",
       "      <td>False</td>\n",
       "    </tr>\n",
       "  </tbody>\n",
       "</table>\n",
       "</div>"
      ],
      "text/plain": [
       "   id  requester_id          inserted_at  \\\n",
       "0   1            22  2015-11-05 14:51:43   \n",
       "1   2            22  2015-11-07 03:46:38   \n",
       "2   3            38  2015-11-10 02:57:34   \n",
       "3   4            53  2015-11-12 10:51:31   \n",
       "\n",
       "                                         job_details         industry  \\\n",
       "0  {u'list_9048040_choice': u'In the next 24 hour...      Agriculture   \n",
       "1  {u'list_9048040_choice': u'In the next 24 hour...      Archaeology   \n",
       "2  {u'list_9048040_choice': u'In the next 24 hour...      Advertising   \n",
       "3  {u'list_9048040_choice': u'In the next week', ...  Medical devices   \n",
       "\n",
       "                  service_type  \\\n",
       "0     interpreting (in-person)   \n",
       "1     interpreting (in-person)   \n",
       "2                event hosting   \n",
       "3  interpreting (on the phone)   \n",
       "\n",
       "                                      industry_depth   location prep_file_URL  \\\n",
       "0  Critical. Being able to understand terminology...     Ningbo           NaN   \n",
       "1  A low priority. This only requires everyday fa...   Shanghai           NaN   \n",
       "2  Critical. Being able to understand terminology...  Hong Kong           NaN   \n",
       "3  Important. I'm willing to tolerate some amount...        NaN           NaN   \n",
       "\n",
       "              deadline match_percentage  \n",
       "0  2015-11-06 14:51:43             True  \n",
       "1  2015-11-08 03:46:38             True  \n",
       "2  2015-11-11 02:57:34            False  \n",
       "3  2015-11-19 10:51:31            False  "
      ]
     },
     "execution_count": 33,
     "metadata": {},
     "output_type": "execute_result"
    }
   ],
   "source": [
    "df_jobs.head(4)"
   ]
  },
  {
   "cell_type": "code",
   "execution_count": 34,
   "metadata": {
    "collapsed": false
   },
   "outputs": [
    {
     "name": "stdout",
     "output_type": "stream",
     "text": [
      "<class 'pandas.core.frame.DataFrame'>\n",
      "Int64Index: 657 entries, 0 to 660\n",
      "Data columns (total 11 columns):\n",
      "id                  657 non-null int64\n",
      "requester_id        657 non-null int64\n",
      "inserted_at         657 non-null object\n",
      "job_details         657 non-null object\n",
      "industry            657 non-null object\n",
      "service_type        657 non-null object\n",
      "industry_depth      657 non-null object\n",
      "location            196 non-null object\n",
      "prep_file_URL       14 non-null object\n",
      "deadline            657 non-null object\n",
      "match_percentage    657 non-null bool\n",
      "dtypes: bool(1), int64(2), object(8)\n",
      "memory usage: 57.1+ KB\n"
     ]
    }
   ],
   "source": [
    "df_jobs.info()"
   ]
  },
  {
   "cell_type": "code",
   "execution_count": 35,
   "metadata": {
    "collapsed": true
   },
   "outputs": [],
   "source": [
    "df_pandas = pd.read_csv('../result/extracted_pandas.csv', index_col=0)"
   ]
  },
  {
   "cell_type": "code",
   "execution_count": 37,
   "metadata": {
    "collapsed": false
   },
   "outputs": [
    {
     "name": "stdout",
     "output_type": "stream",
     "text": [
      "<class 'pandas.core.frame.DataFrame'>\n",
      "Int64Index: 255 entries, 0 to 346\n",
      "Data columns (total 8 columns):\n",
      "id              255 non-null int64\n",
      "inserted_at     255 non-null object\n",
      "name            255 non-null object\n",
      "basecity        254 non-null object\n",
      "prices          255 non-null object\n",
      "target_price    255 non-null float64\n",
      "specialties     255 non-null object\n",
      "capabilities    255 non-null object\n",
      "dtypes: float64(1), int64(1), object(6)\n",
      "memory usage: 17.9+ KB\n"
     ]
    }
   ],
   "source": [
    "df_pandas.info()"
   ]
  },
  {
   "cell_type": "markdown",
   "metadata": {},
   "source": [
    "## Formula\n",
    "\n",
    "match_percentage = industry_weight \\* industry_performance * location_match"
   ]
  },
  {
   "cell_type": "code",
   "execution_count": 38,
   "metadata": {
    "collapsed": false
   },
   "outputs": [
    {
     "data": {
      "text/html": [
       "<div>\n",
       "<table border=\"1\" class=\"dataframe\">\n",
       "  <thead>\n",
       "    <tr style=\"text-align: right;\">\n",
       "      <th></th>\n",
       "      <th>id</th>\n",
       "      <th>inserted_at</th>\n",
       "      <th>name</th>\n",
       "      <th>basecity</th>\n",
       "      <th>prices</th>\n",
       "      <th>target_price</th>\n",
       "      <th>specialties</th>\n",
       "      <th>capabilities</th>\n",
       "    </tr>\n",
       "  </thead>\n",
       "  <tbody>\n",
       "    <tr>\n",
       "      <th>0</th>\n",
       "      <td>1</td>\n",
       "      <td>11/2/2015 5:39:06</td>\n",
       "      <td>test</td>\n",
       "      <td>test</td>\n",
       "      <td>{u'interpretation_base': u'111', u'interpretat...</td>\n",
       "      <td>111</td>\n",
       "      <td>{accounting,advertising}</td>\n",
       "      <td>{architecture}</td>\n",
       "    </tr>\n",
       "    <tr>\n",
       "      <th>1</th>\n",
       "      <td>2</td>\n",
       "      <td>11/2/2015 15:46:11</td>\n",
       "      <td>David</td>\n",
       "      <td>Taipei</td>\n",
       "      <td>{u'interpretation_base': u'13', u'interpretati...</td>\n",
       "      <td>12</td>\n",
       "      <td>{computers_and_computing,it_software_programmi...</td>\n",
       "      <td>{technology,toxicology,photography,music,it,hu...</td>\n",
       "    </tr>\n",
       "    <tr>\n",
       "      <th>5</th>\n",
       "      <td>6</td>\n",
       "      <td>11/3/2015 14:38:13</td>\n",
       "      <td>Christy ZHENG</td>\n",
       "      <td>Beijing</td>\n",
       "      <td>{u'interpretation_base': u'50', u'interpretati...</td>\n",
       "      <td>120</td>\n",
       "      <td>{art,entertainment,social_science}</td>\n",
       "      <td>{environment,fashion,finance,human_rights,it,i...</td>\n",
       "    </tr>\n",
       "  </tbody>\n",
       "</table>\n",
       "</div>"
      ],
      "text/plain": [
       "   id         inserted_at           name basecity  \\\n",
       "0   1   11/2/2015 5:39:06           test     test   \n",
       "1   2  11/2/2015 15:46:11          David   Taipei   \n",
       "5   6  11/3/2015 14:38:13  Christy ZHENG  Beijing   \n",
       "\n",
       "                                              prices  target_price  \\\n",
       "0  {u'interpretation_base': u'111', u'interpretat...           111   \n",
       "1  {u'interpretation_base': u'13', u'interpretati...            12   \n",
       "5  {u'interpretation_base': u'50', u'interpretati...           120   \n",
       "\n",
       "                                         specialties  \\\n",
       "0                           {accounting,advertising}   \n",
       "1  {computers_and_computing,it_software_programmi...   \n",
       "5                 {art,entertainment,social_science}   \n",
       "\n",
       "                                        capabilities  \n",
       "0                                     {architecture}  \n",
       "1  {technology,toxicology,photography,music,it,hu...  \n",
       "5  {environment,fashion,finance,human_rights,it,i...  "
      ]
     },
     "execution_count": 38,
     "metadata": {},
     "output_type": "execute_result"
    }
   ],
   "source": [
    "df_pandas.head(3)"
   ]
  },
  {
   "cell_type": "code",
   "execution_count": 39,
   "metadata": {
    "collapsed": false
   },
   "outputs": [
    {
     "data": {
      "text/plain": [
       "array(['test', 'Taipei', 'Beijing', 'CHONGQING', 'Shanghai',\n",
       "       'Huzhou, Zhejiang ', 'Los Angeles', 'Sofia', 'London', \"Xi'an\",\n",
       "       'Seattle', 'New York', 'Washington DC', 'Chicago', 'Monterey',\n",
       "       'Milan', 'San Francisco', 'santa clara ', 'Long Beach, California',\n",
       "       'Chongqing', 'Chengdu', 'Dublin', 'Guangzhou', 'Hong Kong',\n",
       "       'Qingdao', 'Paris', 'Moscow', 'Washington D.C.', 'Woodinville',\n",
       "       'Seoul', 'Berlin, Germany', 'Monterey, California', 'Mexico',\n",
       "       'Phoenix', 'Indianapolis, IN', '\\xe4\\xb8\\x8a\\xe6\\xb5\\xb7',\n",
       "       'wenzhou', 'beijing', 'Endor', 'Atlanta', 'Beijing ',\n",
       "       'Singapore, Shanghai', 'Jakarta', 'Shanghai ', 'Osaka',\n",
       "       'Pittsburgh', 'Toronto, Canada', 'los angeles', 'Nanjing,Guangzhou',\n",
       "       'Shenzhen', 'Beijing, Nanjing', 'Tianjin', 'College Park',\n",
       "       'New York City', 'San Francisco ', 'Changsha', 'West Fargo',\n",
       "       'chicago', 'Hong Kong, Toronto', 'Boston', 'Shanghai, China',\n",
       "       'Wuhan', 'Chengdu, chongqing, shenyang, dalian',\n",
       "       'California, U.S.A.', 'Shenzhen ', 'Ventura',\n",
       "       'San Francisco Bay Area', 'Hangzhou', 'Leipzig', 'Xiamen',\n",
       "       'Boulder, Colorado', 'Tokyo', 'Guangzhou,Foshan', 'Bay Area',\n",
       "       'Alderon', 'Toronto', 'Greater Seattle Area', 'San Mateo, CA',\n",
       "       'Taipei ', 'Cairo', 'Taiwan', 'Denpasar', 'Hue', 'Atlanta, GA',\n",
       "       'Delhi', 'Washington, DC', 'West Lafayette', 'Valencia, Spain',\n",
       "       'Sao Paulo, Brazil', nan, 'shanghai', 'Strasbourg', 'Beijng',\n",
       "       'Bangkok', 'Brussels', 'Oslo', 'Beijing; Hong Kong', 'Seoul ',\n",
       "       'BEIJING', 'Colorado', 'Denver'], dtype=object)"
      ]
     },
     "execution_count": 39,
     "metadata": {},
     "output_type": "execute_result"
    }
   ],
   "source": [
    "df_pandas['basecity'].unique()"
   ]
  },
  {
   "cell_type": "code",
   "execution_count": 40,
   "metadata": {
    "collapsed": false
   },
   "outputs": [
    {
     "data": {
      "text/html": [
       "<div>\n",
       "<table border=\"1\" class=\"dataframe\">\n",
       "  <thead>\n",
       "    <tr style=\"text-align: right;\">\n",
       "      <th></th>\n",
       "      <th>id</th>\n",
       "      <th>inserted_at</th>\n",
       "      <th>name</th>\n",
       "      <th>basecity</th>\n",
       "      <th>prices</th>\n",
       "      <th>target_price</th>\n",
       "      <th>specialties</th>\n",
       "      <th>capabilities</th>\n",
       "    </tr>\n",
       "  </thead>\n",
       "  <tbody>\n",
       "    <tr>\n",
       "      <th>166</th>\n",
       "      <td>169</td>\n",
       "      <td>1/2/2016 15:11:29</td>\n",
       "      <td>Gloria</td>\n",
       "      <td>Wuhan</td>\n",
       "      <td>{u'interpretation_base': u'25', u'interpretati...</td>\n",
       "      <td>40</td>\n",
       "      <td>{}</td>\n",
       "      <td>{}</td>\n",
       "    </tr>\n",
       "    <tr>\n",
       "      <th>167</th>\n",
       "      <td>170</td>\n",
       "      <td>1/2/2016 16:19:48</td>\n",
       "      <td>Gloria</td>\n",
       "      <td>Wuhan</td>\n",
       "      <td>{u'interpretation_base': u'25', u'interpretati...</td>\n",
       "      <td>40</td>\n",
       "      <td>{fashion,finance,humanities}</td>\n",
       "      <td>{business_negotiations_business_development,ed...</td>\n",
       "    </tr>\n",
       "    <tr>\n",
       "      <th>246</th>\n",
       "      <td>249</td>\n",
       "      <td>2/14/2016 4:42:10</td>\n",
       "      <td>Jimmy</td>\n",
       "      <td>Wuhan</td>\n",
       "      <td>{u'interpretation_base': u'40', u'interpretati...</td>\n",
       "      <td>100</td>\n",
       "      <td>{marketing,politics,machinery}</td>\n",
       "      <td>{advertising,agriculture,construction,cosmetic...</td>\n",
       "    </tr>\n",
       "  </tbody>\n",
       "</table>\n",
       "</div>"
      ],
      "text/plain": [
       "      id        inserted_at    name basecity  \\\n",
       "166  169  1/2/2016 15:11:29  Gloria    Wuhan   \n",
       "167  170  1/2/2016 16:19:48  Gloria    Wuhan   \n",
       "246  249  2/14/2016 4:42:10   Jimmy    Wuhan   \n",
       "\n",
       "                                                prices  target_price  \\\n",
       "166  {u'interpretation_base': u'25', u'interpretati...            40   \n",
       "167  {u'interpretation_base': u'25', u'interpretati...            40   \n",
       "246  {u'interpretation_base': u'40', u'interpretati...           100   \n",
       "\n",
       "                        specialties  \\\n",
       "166                              {}   \n",
       "167    {fashion,finance,humanities}   \n",
       "246  {marketing,politics,machinery}   \n",
       "\n",
       "                                          capabilities  \n",
       "166                                                 {}  \n",
       "167  {business_negotiations_business_development,ed...  \n",
       "246  {advertising,agriculture,construction,cosmetic...  "
      ]
     },
     "execution_count": 40,
     "metadata": {},
     "output_type": "execute_result"
    }
   ],
   "source": [
    "df_pandas[df_pandas['basecity']=='Wuhan']"
   ]
  },
  {
   "cell_type": "code",
   "execution_count": 41,
   "metadata": {
    "collapsed": false
   },
   "outputs": [],
   "source": [
    "job_sample = df_jobs[df_jobs['id']==2]"
   ]
  },
  {
   "cell_type": "code",
   "execution_count": 42,
   "metadata": {
    "collapsed": false
   },
   "outputs": [
    {
     "data": {
      "text/html": [
       "<div>\n",
       "<table border=\"1\" class=\"dataframe\">\n",
       "  <thead>\n",
       "    <tr style=\"text-align: right;\">\n",
       "      <th></th>\n",
       "      <th>id</th>\n",
       "      <th>requester_id</th>\n",
       "      <th>inserted_at</th>\n",
       "      <th>job_details</th>\n",
       "      <th>industry</th>\n",
       "      <th>service_type</th>\n",
       "      <th>industry_depth</th>\n",
       "      <th>location</th>\n",
       "      <th>prep_file_URL</th>\n",
       "      <th>deadline</th>\n",
       "      <th>match_percentage</th>\n",
       "    </tr>\n",
       "  </thead>\n",
       "  <tbody>\n",
       "    <tr>\n",
       "      <th>1</th>\n",
       "      <td>2</td>\n",
       "      <td>22</td>\n",
       "      <td>2015-11-07 03:46:38</td>\n",
       "      <td>{u'list_9048040_choice': u'In the next 24 hour...</td>\n",
       "      <td>Archaeology</td>\n",
       "      <td>interpreting (in-person)</td>\n",
       "      <td>A low priority. This only requires everyday fa...</td>\n",
       "      <td>Shanghai</td>\n",
       "      <td>NaN</td>\n",
       "      <td>2015-11-08 03:46:38</td>\n",
       "      <td>True</td>\n",
       "    </tr>\n",
       "  </tbody>\n",
       "</table>\n",
       "</div>"
      ],
      "text/plain": [
       "   id  requester_id          inserted_at  \\\n",
       "1   2            22  2015-11-07 03:46:38   \n",
       "\n",
       "                                         job_details     industry  \\\n",
       "1  {u'list_9048040_choice': u'In the next 24 hour...  Archaeology   \n",
       "\n",
       "               service_type  \\\n",
       "1  interpreting (in-person)   \n",
       "\n",
       "                                      industry_depth  location prep_file_URL  \\\n",
       "1  A low priority. This only requires everyday fa...  Shanghai           NaN   \n",
       "\n",
       "              deadline match_percentage  \n",
       "1  2015-11-08 03:46:38             True  "
      ]
     },
     "execution_count": 42,
     "metadata": {},
     "output_type": "execute_result"
    }
   ],
   "source": [
    "job_sample"
   ]
  },
  {
   "cell_type": "code",
   "execution_count": 43,
   "metadata": {
    "collapsed": true
   },
   "outputs": [],
   "source": [
    "df_pandas['location_match'] = df_pandas['basecity'].apply(lambda x: x==job_sample['location'])"
   ]
  },
  {
   "cell_type": "markdown",
   "metadata": {},
   "source": [
    "Metrics used for match_percentage: industry_weight, industry_performance"
   ]
  },
  {
   "cell_type": "code",
   "execution_count": 46,
   "metadata": {
    "collapsed": true
   },
   "outputs": [],
   "source": [
    "industry_weight_metric={'Critical': 0.8, 'Important': 0.5}\n",
    "industry_performance_metric = {'specialties': 1, 'capabilities': 0.5}"
   ]
  },
  {
   "cell_type": "code",
   "execution_count": 72,
   "metadata": {
    "collapsed": true
   },
   "outputs": [],
   "source": [
    "def check_match(field='industry', \n",
    "                metric=industry_performance_metric,\n",
    "                job=job_sample,\n",
    "                panda=df_pandas[df_pandas['id']==2],\n",
    "                other=0.1):\n",
    "    for k, v in metric.iteritems():\n",
    "        print panda[k], v, job[field]\n",
    "        if job[field] in panda[k]:\n",
    "            return v\n",
    "    else:\n",
    "        return other"
   ]
  },
  {
   "cell_type": "code",
   "execution_count": 76,
   "metadata": {
    "collapsed": false
   },
   "outputs": [
    {
     "data": {
      "text/plain": [
       "pandas.core.series.Series"
      ]
     },
     "execution_count": 76,
     "metadata": {},
     "output_type": "execute_result"
    }
   ],
   "source": [
    "type(job_sample['industry'])"
   ]
  },
  {
   "cell_type": "code",
   "execution_count": 77,
   "metadata": {
    "collapsed": false
   },
   "outputs": [
    {
     "data": {
      "text/plain": [
       "False"
      ]
     },
     "execution_count": 77,
     "metadata": {},
     "output_type": "execute_result"
    }
   ],
   "source": [
    "'fashion' in df_pandas['specialties']"
   ]
  },
  {
   "cell_type": "code",
   "execution_count": 73,
   "metadata": {
    "collapsed": false
   },
   "outputs": [
    {
     "name": "stdout",
     "output_type": "stream",
     "text": [
      "1    {computers_and_computing,it_software_programmi...\n",
      "Name: specialties, dtype: object 1 1    Archaeology\n",
      "Name: industry, dtype: object\n"
     ]
    },
    {
     "ename": "TypeError",
     "evalue": "'Series' objects are mutable, thus they cannot be hashed",
     "output_type": "error",
     "traceback": [
      "\u001b[1;31m---------------------------------------------------------------------------\u001b[0m",
      "\u001b[1;31mTypeError\u001b[0m                                 Traceback (most recent call last)",
      "\u001b[1;32m<ipython-input-73-399ba3350707>\u001b[0m in \u001b[0;36m<module>\u001b[1;34m()\u001b[0m\n\u001b[1;32m----> 1\u001b[1;33m \u001b[0mcheck_match\u001b[0m\u001b[1;33m(\u001b[0m\u001b[1;33m)\u001b[0m\u001b[1;33m\u001b[0m\u001b[0m\n\u001b[0m",
      "\u001b[1;32m<ipython-input-72-63a380ce9028>\u001b[0m in \u001b[0;36mcheck_match\u001b[1;34m(field, metric, job, panda, other)\u001b[0m\n\u001b[0;32m      6\u001b[0m     \u001b[1;32mfor\u001b[0m \u001b[0mk\u001b[0m\u001b[1;33m,\u001b[0m \u001b[0mv\u001b[0m \u001b[1;32min\u001b[0m \u001b[0mmetric\u001b[0m\u001b[1;33m.\u001b[0m\u001b[0miteritems\u001b[0m\u001b[1;33m(\u001b[0m\u001b[1;33m)\u001b[0m\u001b[1;33m:\u001b[0m\u001b[1;33m\u001b[0m\u001b[0m\n\u001b[0;32m      7\u001b[0m         \u001b[1;32mprint\u001b[0m \u001b[0mpanda\u001b[0m\u001b[1;33m[\u001b[0m\u001b[0mk\u001b[0m\u001b[1;33m]\u001b[0m\u001b[1;33m,\u001b[0m \u001b[0mv\u001b[0m\u001b[1;33m,\u001b[0m \u001b[0mjob\u001b[0m\u001b[1;33m[\u001b[0m\u001b[0mfield\u001b[0m\u001b[1;33m]\u001b[0m\u001b[1;33m\u001b[0m\u001b[0m\n\u001b[1;32m----> 8\u001b[1;33m         \u001b[1;32mif\u001b[0m \u001b[0mjob\u001b[0m\u001b[1;33m[\u001b[0m\u001b[0mfield\u001b[0m\u001b[1;33m]\u001b[0m \u001b[1;32min\u001b[0m \u001b[0mpanda\u001b[0m\u001b[1;33m[\u001b[0m\u001b[0mk\u001b[0m\u001b[1;33m]\u001b[0m\u001b[1;33m:\u001b[0m\u001b[1;33m\u001b[0m\u001b[0m\n\u001b[0m\u001b[0;32m      9\u001b[0m             \u001b[1;32mreturn\u001b[0m \u001b[0mv\u001b[0m\u001b[1;33m\u001b[0m\u001b[0m\n\u001b[0;32m     10\u001b[0m     \u001b[1;32melse\u001b[0m\u001b[1;33m:\u001b[0m\u001b[1;33m\u001b[0m\u001b[0m\n",
      "\u001b[1;32m/home/hao/anaconda/lib/python2.7/site-packages/pandas/core/generic.pyc\u001b[0m in \u001b[0;36m__contains__\u001b[1;34m(self, key)\u001b[0m\n\u001b[0;32m    702\u001b[0m     \u001b[1;32mdef\u001b[0m \u001b[0m__contains__\u001b[0m\u001b[1;33m(\u001b[0m\u001b[0mself\u001b[0m\u001b[1;33m,\u001b[0m \u001b[0mkey\u001b[0m\u001b[1;33m)\u001b[0m\u001b[1;33m:\u001b[0m\u001b[1;33m\u001b[0m\u001b[0m\n\u001b[0;32m    703\u001b[0m         \u001b[1;34m\"\"\"True if the key is in the info axis \"\"\"\u001b[0m\u001b[1;33m\u001b[0m\u001b[0m\n\u001b[1;32m--> 704\u001b[1;33m         \u001b[1;32mreturn\u001b[0m \u001b[0mkey\u001b[0m \u001b[1;32min\u001b[0m \u001b[0mself\u001b[0m\u001b[1;33m.\u001b[0m\u001b[0m_info_axis\u001b[0m\u001b[1;33m\u001b[0m\u001b[0m\n\u001b[0m\u001b[0;32m    705\u001b[0m \u001b[1;33m\u001b[0m\u001b[0m\n\u001b[0;32m    706\u001b[0m     \u001b[1;33m@\u001b[0m\u001b[0mproperty\u001b[0m\u001b[1;33m\u001b[0m\u001b[0m\n",
      "\u001b[1;32m/home/hao/anaconda/lib/python2.7/site-packages/pandas/core/index.pyc\u001b[0m in \u001b[0;36m__contains__\u001b[1;34m(self, key)\u001b[0m\n\u001b[0;32m   1044\u001b[0m \u001b[1;33m\u001b[0m\u001b[0m\n\u001b[0;32m   1045\u001b[0m     \u001b[1;32mdef\u001b[0m \u001b[0m__contains__\u001b[0m\u001b[1;33m(\u001b[0m\u001b[0mself\u001b[0m\u001b[1;33m,\u001b[0m \u001b[0mkey\u001b[0m\u001b[1;33m)\u001b[0m\u001b[1;33m:\u001b[0m\u001b[1;33m\u001b[0m\u001b[0m\n\u001b[1;32m-> 1046\u001b[1;33m         \u001b[0mhash\u001b[0m\u001b[1;33m(\u001b[0m\u001b[0mkey\u001b[0m\u001b[1;33m)\u001b[0m\u001b[1;33m\u001b[0m\u001b[0m\n\u001b[0m\u001b[0;32m   1047\u001b[0m         \u001b[1;31m# work around some kind of odd cython bug\u001b[0m\u001b[1;33m\u001b[0m\u001b[1;33m\u001b[0m\u001b[0m\n\u001b[0;32m   1048\u001b[0m         \u001b[1;32mtry\u001b[0m\u001b[1;33m:\u001b[0m\u001b[1;33m\u001b[0m\u001b[0m\n",
      "\u001b[1;32m/home/hao/anaconda/lib/python2.7/site-packages/pandas/core/generic.pyc\u001b[0m in \u001b[0;36m__hash__\u001b[1;34m(self)\u001b[0m\n\u001b[0;32m    661\u001b[0m     \u001b[1;32mdef\u001b[0m \u001b[0m__hash__\u001b[0m\u001b[1;33m(\u001b[0m\u001b[0mself\u001b[0m\u001b[1;33m)\u001b[0m\u001b[1;33m:\u001b[0m\u001b[1;33m\u001b[0m\u001b[0m\n\u001b[0;32m    662\u001b[0m         raise TypeError('{0!r} objects are mutable, thus they cannot be'\n\u001b[1;32m--> 663\u001b[1;33m                         ' hashed'.format(self.__class__.__name__))\n\u001b[0m\u001b[0;32m    664\u001b[0m \u001b[1;33m\u001b[0m\u001b[0m\n\u001b[0;32m    665\u001b[0m     \u001b[1;32mdef\u001b[0m \u001b[0m__iter__\u001b[0m\u001b[1;33m(\u001b[0m\u001b[0mself\u001b[0m\u001b[1;33m)\u001b[0m\u001b[1;33m:\u001b[0m\u001b[1;33m\u001b[0m\u001b[0m\n",
      "\u001b[1;31mTypeError\u001b[0m: 'Series' objects are mutable, thus they cannot be hashed"
     ]
    }
   ],
   "source": [
    "check_match()"
   ]
  },
  {
   "cell_type": "code",
   "execution_count": 63,
   "metadata": {
    "collapsed": false
   },
   "outputs": [],
   "source": [
    "df_pandas['industry_weight_match']=df_pandas['id'].apply(lambda x: check_match(panda=df_pandas[df_pandas['id']==x]))"
   ]
  },
  {
   "cell_type": "code",
   "execution_count": null,
   "metadata": {
    "collapsed": true
   },
   "outputs": [],
   "source": []
  }
 ],
 "metadata": {
  "kernelspec": {
   "display_name": "Python 2",
   "language": "python",
   "name": "python2"
  },
  "language_info": {
   "codemirror_mode": {
    "name": "ipython",
    "version": 2
   },
   "file_extension": ".py",
   "mimetype": "text/x-python",
   "name": "python",
   "nbconvert_exporter": "python",
   "pygments_lexer": "ipython2",
   "version": "2.7.11"
  }
 },
 "nbformat": 4,
 "nbformat_minor": 0
}
