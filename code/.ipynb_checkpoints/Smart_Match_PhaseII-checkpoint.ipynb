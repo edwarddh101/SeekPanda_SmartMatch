{
 "cells": [
  {
   "cell_type": "markdown",
   "metadata": {},
   "source": [
    "Goal:\n",
    "\n",
    "1. Identify jobs having service_type = interpreting (in-person)\n",
    "\n",
    "2. Introduce a temporary variable called match_percentage\n",
    "\n",
    "3. For each job, calculate match_percentage (detail below) for all pandas\n",
    "\n",
    "4. Return a sorted array (in descending order of match percentage) of the name and\n",
    "\n",
    "5. target_price fields of the top matching pandas"
   ]
  },
  {
   "cell_type": "code",
   "execution_count": 1,
   "metadata": {
    "collapsed": true
   },
   "outputs": [],
   "source": [
    "import pandas as pd"
   ]
  },
  {
   "cell_type": "code",
   "execution_count": 2,
   "metadata": {
    "collapsed": true
   },
   "outputs": [],
   "source": [
    "df_jobs = pd.read_csv('../result/extracted_jobs.csv')"
   ]
  },
  {
   "cell_type": "code",
   "execution_count": 3,
   "metadata": {
    "collapsed": false
   },
   "outputs": [
    {
     "data": {
      "text/html": [
       "<div>\n",
       "<table border=\"1\" class=\"dataframe\">\n",
       "  <thead>\n",
       "    <tr style=\"text-align: right;\">\n",
       "      <th></th>\n",
       "      <th>Unnamed: 0</th>\n",
       "      <th>id</th>\n",
       "      <th>requester_id</th>\n",
       "      <th>inserted_at</th>\n",
       "      <th>job_details</th>\n",
       "      <th>industry</th>\n",
       "      <th>service_type</th>\n",
       "      <th>industry_depth</th>\n",
       "      <th>location</th>\n",
       "      <th>prep_file_URL</th>\n",
       "      <th>deadline</th>\n",
       "    </tr>\n",
       "  </thead>\n",
       "  <tbody>\n",
       "    <tr>\n",
       "      <th>0</th>\n",
       "      <td>0</td>\n",
       "      <td>1</td>\n",
       "      <td>22</td>\n",
       "      <td>2015-11-05 14:51:43</td>\n",
       "      <td>{u'list_9048040_choice': u'In the next 24 hour...</td>\n",
       "      <td>Agriculture</td>\n",
       "      <td>interpreting (in-person)</td>\n",
       "      <td>Critical. Being able to understand terminology...</td>\n",
       "      <td>Ningbo</td>\n",
       "      <td>NaN</td>\n",
       "      <td>2015-11-06 14:51:43</td>\n",
       "    </tr>\n",
       "    <tr>\n",
       "      <th>1</th>\n",
       "      <td>1</td>\n",
       "      <td>2</td>\n",
       "      <td>22</td>\n",
       "      <td>2015-11-07 03:46:38</td>\n",
       "      <td>{u'list_9048040_choice': u'In the next 24 hour...</td>\n",
       "      <td>Archaeology</td>\n",
       "      <td>interpreting (in-person)</td>\n",
       "      <td>A low priority. This only requires everyday fa...</td>\n",
       "      <td>Shanghai</td>\n",
       "      <td>NaN</td>\n",
       "      <td>2015-11-08 03:46:38</td>\n",
       "    </tr>\n",
       "  </tbody>\n",
       "</table>\n",
       "</div>"
      ],
      "text/plain": [
       "   Unnamed: 0  id  requester_id          inserted_at  \\\n",
       "0           0   1            22  2015-11-05 14:51:43   \n",
       "1           1   2            22  2015-11-07 03:46:38   \n",
       "\n",
       "                                         job_details     industry  \\\n",
       "0  {u'list_9048040_choice': u'In the next 24 hour...  Agriculture   \n",
       "1  {u'list_9048040_choice': u'In the next 24 hour...  Archaeology   \n",
       "\n",
       "               service_type  \\\n",
       "0  interpreting (in-person)   \n",
       "1  interpreting (in-person)   \n",
       "\n",
       "                                      industry_depth  location prep_file_URL  \\\n",
       "0  Critical. Being able to understand terminology...    Ningbo           NaN   \n",
       "1  A low priority. This only requires everyday fa...  Shanghai           NaN   \n",
       "\n",
       "              deadline  \n",
       "0  2015-11-06 14:51:43  \n",
       "1  2015-11-08 03:46:38  "
      ]
     },
     "execution_count": 3,
     "metadata": {},
     "output_type": "execute_result"
    }
   ],
   "source": [
    "df_jobs.head(2)"
   ]
  },
  {
   "cell_type": "code",
   "execution_count": 5,
   "metadata": {
    "collapsed": false
   },
   "outputs": [
    {
     "data": {
      "text/plain": [
       "array(['interpreting (in-person)', 'event hosting',\n",
       "       'interpreting (on the phone)', 'translation'], dtype=object)"
      ]
     },
     "execution_count": 5,
     "metadata": {},
     "output_type": "execute_result"
    }
   ],
   "source": [
    "df_jobs['service_type'].unique()"
   ]
  },
  {
   "cell_type": "code",
   "execution_count": null,
   "metadata": {
    "collapsed": true
   },
   "outputs": [],
   "source": []
  }
 ],
 "metadata": {
  "kernelspec": {
   "display_name": "Python 2",
   "language": "python",
   "name": "python2"
  },
  "language_info": {
   "codemirror_mode": {
    "name": "ipython",
    "version": 2
   },
   "file_extension": ".py",
   "mimetype": "text/x-python",
   "name": "python",
   "nbconvert_exporter": "python",
   "pygments_lexer": "ipython2",
   "version": "2.7.11"
  }
 },
 "nbformat": 4,
 "nbformat_minor": 0
}
